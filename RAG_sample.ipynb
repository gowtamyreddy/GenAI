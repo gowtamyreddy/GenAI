{
  "nbformat": 4,
  "nbformat_minor": 0,
  "metadata": {
    "colab": {
      "provenance": [],
      "authorship_tag": "ABX9TyMnYts+gL+8huf8WQls4YYT",
      "include_colab_link": true
    },
    "kernelspec": {
      "name": "python3",
      "display_name": "Python 3"
    },
    "language_info": {
      "name": "python"
    }
  },
  "cells": [
    {
      "cell_type": "markdown",
      "metadata": {
        "id": "view-in-github",
        "colab_type": "text"
      },
      "source": [
        "<a href=\"https://colab.research.google.com/github/gowtamyreddy/GenAI/blob/main/RAG_sample.ipynb\" target=\"_parent\"><img src=\"https://colab.research.google.com/assets/colab-badge.svg\" alt=\"Open In Colab\"/></a>"
      ]
    },
    {
      "cell_type": "code",
      "execution_count": null,
      "metadata": {
        "id": "K3PToiVWtBJh"
      },
      "outputs": [],
      "source": []
    },
    {
      "cell_type": "markdown",
      "source": [
        "##**Chroma DB -> vector DB**"
      ],
      "metadata": {
        "id": "cyVCq9EEt29Z"
      }
    },
    {
      "cell_type": "code",
      "source": [
        "!pip install chromadb"
      ],
      "metadata": {
        "colab": {
          "base_uri": "https://localhost:8080/"
        },
        "id": "gg-7CoTyt-GZ",
        "outputId": "0858c8ba-81e9-4c8f-c171-ad63fc8aaf5e"
      },
      "execution_count": 1,
      "outputs": [
        {
          "output_type": "stream",
          "name": "stdout",
          "text": [
            "Collecting chromadb\n",
            "  Downloading chromadb-0.6.3-py3-none-any.whl.metadata (6.8 kB)\n",
            "Collecting build>=1.0.3 (from chromadb)\n",
            "  Downloading build-1.2.2.post1-py3-none-any.whl.metadata (6.5 kB)\n",
            "Requirement already satisfied: pydantic>=1.9 in /usr/local/lib/python3.11/dist-packages (from chromadb) (2.10.6)\n",
            "Collecting chroma-hnswlib==0.7.6 (from chromadb)\n",
            "  Downloading chroma_hnswlib-0.7.6-cp311-cp311-manylinux_2_17_x86_64.manylinux2014_x86_64.whl.metadata (252 bytes)\n",
            "Collecting fastapi>=0.95.2 (from chromadb)\n",
            "  Downloading fastapi-0.115.11-py3-none-any.whl.metadata (27 kB)\n",
            "Collecting uvicorn>=0.18.3 (from uvicorn[standard]>=0.18.3->chromadb)\n",
            "  Downloading uvicorn-0.34.0-py3-none-any.whl.metadata (6.5 kB)\n",
            "Requirement already satisfied: numpy>=1.22.5 in /usr/local/lib/python3.11/dist-packages (from chromadb) (2.0.2)\n",
            "Collecting posthog>=2.4.0 (from chromadb)\n",
            "  Downloading posthog-3.21.0-py2.py3-none-any.whl.metadata (2.9 kB)\n",
            "Requirement already satisfied: typing_extensions>=4.5.0 in /usr/local/lib/python3.11/dist-packages (from chromadb) (4.12.2)\n",
            "Collecting onnxruntime>=1.14.1 (from chromadb)\n",
            "  Downloading onnxruntime-1.21.0-cp311-cp311-manylinux_2_27_x86_64.manylinux_2_28_x86_64.whl.metadata (4.5 kB)\n",
            "Requirement already satisfied: opentelemetry-api>=1.2.0 in /usr/local/lib/python3.11/dist-packages (from chromadb) (1.31.0)\n",
            "Collecting opentelemetry-exporter-otlp-proto-grpc>=1.2.0 (from chromadb)\n",
            "  Downloading opentelemetry_exporter_otlp_proto_grpc-1.31.1-py3-none-any.whl.metadata (2.5 kB)\n",
            "Collecting opentelemetry-instrumentation-fastapi>=0.41b0 (from chromadb)\n",
            "  Downloading opentelemetry_instrumentation_fastapi-0.52b1-py3-none-any.whl.metadata (2.2 kB)\n",
            "Requirement already satisfied: opentelemetry-sdk>=1.2.0 in /usr/local/lib/python3.11/dist-packages (from chromadb) (1.31.0)\n",
            "Requirement already satisfied: tokenizers>=0.13.2 in /usr/local/lib/python3.11/dist-packages (from chromadb) (0.21.1)\n",
            "Collecting pypika>=0.48.9 (from chromadb)\n",
            "  Downloading PyPika-0.48.9.tar.gz (67 kB)\n",
            "\u001b[2K     \u001b[90m━━━━━━━━━━━━━━━━━━━━━━━━━━━━━━━━━━━━━━━━\u001b[0m \u001b[32m67.3/67.3 kB\u001b[0m \u001b[31m1.3 MB/s\u001b[0m eta \u001b[36m0:00:00\u001b[0m\n",
            "\u001b[?25h  Installing build dependencies ... \u001b[?25l\u001b[?25hdone\n",
            "  Getting requirements to build wheel ... \u001b[?25l\u001b[?25hdone\n",
            "  Preparing metadata (pyproject.toml) ... \u001b[?25l\u001b[?25hdone\n",
            "Requirement already satisfied: tqdm>=4.65.0 in /usr/local/lib/python3.11/dist-packages (from chromadb) (4.67.1)\n",
            "Collecting overrides>=7.3.1 (from chromadb)\n",
            "  Downloading overrides-7.7.0-py3-none-any.whl.metadata (5.8 kB)\n",
            "Requirement already satisfied: importlib-resources in /usr/local/lib/python3.11/dist-packages (from chromadb) (6.5.2)\n",
            "Requirement already satisfied: grpcio>=1.58.0 in /usr/local/lib/python3.11/dist-packages (from chromadb) (1.71.0)\n",
            "Collecting bcrypt>=4.0.1 (from chromadb)\n",
            "  Downloading bcrypt-4.3.0-cp39-abi3-manylinux_2_34_x86_64.whl.metadata (10 kB)\n",
            "Requirement already satisfied: typer>=0.9.0 in /usr/local/lib/python3.11/dist-packages (from chromadb) (0.15.2)\n",
            "Collecting kubernetes>=28.1.0 (from chromadb)\n",
            "  Downloading kubernetes-32.0.1-py2.py3-none-any.whl.metadata (1.7 kB)\n",
            "Requirement already satisfied: tenacity>=8.2.3 in /usr/local/lib/python3.11/dist-packages (from chromadb) (9.0.0)\n",
            "Requirement already satisfied: PyYAML>=6.0.0 in /usr/local/lib/python3.11/dist-packages (from chromadb) (6.0.2)\n",
            "Collecting mmh3>=4.0.1 (from chromadb)\n",
            "  Downloading mmh3-5.1.0-cp311-cp311-manylinux_2_5_x86_64.manylinux1_x86_64.manylinux_2_17_x86_64.manylinux2014_x86_64.whl.metadata (16 kB)\n",
            "Requirement already satisfied: orjson>=3.9.12 in /usr/local/lib/python3.11/dist-packages (from chromadb) (3.10.15)\n",
            "Requirement already satisfied: httpx>=0.27.0 in /usr/local/lib/python3.11/dist-packages (from chromadb) (0.28.1)\n",
            "Requirement already satisfied: rich>=10.11.0 in /usr/local/lib/python3.11/dist-packages (from chromadb) (13.9.4)\n",
            "Requirement already satisfied: packaging>=19.1 in /usr/local/lib/python3.11/dist-packages (from build>=1.0.3->chromadb) (24.2)\n",
            "Collecting pyproject_hooks (from build>=1.0.3->chromadb)\n",
            "  Downloading pyproject_hooks-1.2.0-py3-none-any.whl.metadata (1.3 kB)\n",
            "Collecting starlette<0.47.0,>=0.40.0 (from fastapi>=0.95.2->chromadb)\n",
            "  Downloading starlette-0.46.1-py3-none-any.whl.metadata (6.2 kB)\n",
            "Requirement already satisfied: anyio in /usr/local/lib/python3.11/dist-packages (from httpx>=0.27.0->chromadb) (4.9.0)\n",
            "Requirement already satisfied: certifi in /usr/local/lib/python3.11/dist-packages (from httpx>=0.27.0->chromadb) (2025.1.31)\n",
            "Requirement already satisfied: httpcore==1.* in /usr/local/lib/python3.11/dist-packages (from httpx>=0.27.0->chromadb) (1.0.7)\n",
            "Requirement already satisfied: idna in /usr/local/lib/python3.11/dist-packages (from httpx>=0.27.0->chromadb) (3.10)\n",
            "Requirement already satisfied: h11<0.15,>=0.13 in /usr/local/lib/python3.11/dist-packages (from httpcore==1.*->httpx>=0.27.0->chromadb) (0.14.0)\n",
            "Requirement already satisfied: six>=1.9.0 in /usr/local/lib/python3.11/dist-packages (from kubernetes>=28.1.0->chromadb) (1.17.0)\n",
            "Requirement already satisfied: python-dateutil>=2.5.3 in /usr/local/lib/python3.11/dist-packages (from kubernetes>=28.1.0->chromadb) (2.8.2)\n",
            "Requirement already satisfied: google-auth>=1.0.1 in /usr/local/lib/python3.11/dist-packages (from kubernetes>=28.1.0->chromadb) (2.38.0)\n",
            "Requirement already satisfied: websocket-client!=0.40.0,!=0.41.*,!=0.42.*,>=0.32.0 in /usr/local/lib/python3.11/dist-packages (from kubernetes>=28.1.0->chromadb) (1.8.0)\n",
            "Requirement already satisfied: requests in /usr/local/lib/python3.11/dist-packages (from kubernetes>=28.1.0->chromadb) (2.32.3)\n",
            "Requirement already satisfied: requests-oauthlib in /usr/local/lib/python3.11/dist-packages (from kubernetes>=28.1.0->chromadb) (2.0.0)\n",
            "Requirement already satisfied: oauthlib>=3.2.2 in /usr/local/lib/python3.11/dist-packages (from kubernetes>=28.1.0->chromadb) (3.2.2)\n",
            "Requirement already satisfied: urllib3>=1.24.2 in /usr/local/lib/python3.11/dist-packages (from kubernetes>=28.1.0->chromadb) (2.3.0)\n",
            "Collecting durationpy>=0.7 (from kubernetes>=28.1.0->chromadb)\n",
            "  Downloading durationpy-0.9-py3-none-any.whl.metadata (338 bytes)\n",
            "Collecting coloredlogs (from onnxruntime>=1.14.1->chromadb)\n",
            "  Downloading coloredlogs-15.0.1-py2.py3-none-any.whl.metadata (12 kB)\n",
            "Requirement already satisfied: flatbuffers in /usr/local/lib/python3.11/dist-packages (from onnxruntime>=1.14.1->chromadb) (25.2.10)\n",
            "Requirement already satisfied: protobuf in /usr/local/lib/python3.11/dist-packages (from onnxruntime>=1.14.1->chromadb) (5.29.3)\n",
            "Requirement already satisfied: sympy in /usr/local/lib/python3.11/dist-packages (from onnxruntime>=1.14.1->chromadb) (1.13.1)\n",
            "Requirement already satisfied: deprecated>=1.2.6 in /usr/local/lib/python3.11/dist-packages (from opentelemetry-api>=1.2.0->chromadb) (1.2.18)\n",
            "Requirement already satisfied: importlib-metadata<8.7.0,>=6.0 in /usr/local/lib/python3.11/dist-packages (from opentelemetry-api>=1.2.0->chromadb) (8.6.1)\n",
            "Requirement already satisfied: googleapis-common-protos~=1.52 in /usr/local/lib/python3.11/dist-packages (from opentelemetry-exporter-otlp-proto-grpc>=1.2.0->chromadb) (1.69.2)\n",
            "Collecting opentelemetry-exporter-otlp-proto-common==1.31.1 (from opentelemetry-exporter-otlp-proto-grpc>=1.2.0->chromadb)\n",
            "  Downloading opentelemetry_exporter_otlp_proto_common-1.31.1-py3-none-any.whl.metadata (1.9 kB)\n",
            "Collecting opentelemetry-proto==1.31.1 (from opentelemetry-exporter-otlp-proto-grpc>=1.2.0->chromadb)\n",
            "  Downloading opentelemetry_proto-1.31.1-py3-none-any.whl.metadata (2.4 kB)\n",
            "Collecting opentelemetry-sdk>=1.2.0 (from chromadb)\n",
            "  Downloading opentelemetry_sdk-1.31.1-py3-none-any.whl.metadata (1.6 kB)\n",
            "Collecting opentelemetry-instrumentation-asgi==0.52b1 (from opentelemetry-instrumentation-fastapi>=0.41b0->chromadb)\n",
            "  Downloading opentelemetry_instrumentation_asgi-0.52b1-py3-none-any.whl.metadata (2.1 kB)\n",
            "Collecting opentelemetry-instrumentation==0.52b1 (from opentelemetry-instrumentation-fastapi>=0.41b0->chromadb)\n",
            "  Downloading opentelemetry_instrumentation-0.52b1-py3-none-any.whl.metadata (6.8 kB)\n",
            "Collecting opentelemetry-semantic-conventions==0.52b1 (from opentelemetry-instrumentation-fastapi>=0.41b0->chromadb)\n",
            "  Downloading opentelemetry_semantic_conventions-0.52b1-py3-none-any.whl.metadata (2.5 kB)\n",
            "Collecting opentelemetry-util-http==0.52b1 (from opentelemetry-instrumentation-fastapi>=0.41b0->chromadb)\n",
            "  Downloading opentelemetry_util_http-0.52b1-py3-none-any.whl.metadata (2.6 kB)\n",
            "Requirement already satisfied: wrapt<2.0.0,>=1.0.0 in /usr/local/lib/python3.11/dist-packages (from opentelemetry-instrumentation==0.52b1->opentelemetry-instrumentation-fastapi>=0.41b0->chromadb) (1.17.2)\n",
            "Collecting asgiref~=3.0 (from opentelemetry-instrumentation-asgi==0.52b1->opentelemetry-instrumentation-fastapi>=0.41b0->chromadb)\n",
            "  Downloading asgiref-3.8.1-py3-none-any.whl.metadata (9.3 kB)\n",
            "Collecting opentelemetry-api>=1.2.0 (from chromadb)\n",
            "  Downloading opentelemetry_api-1.31.1-py3-none-any.whl.metadata (1.6 kB)\n",
            "Collecting monotonic>=1.5 (from posthog>=2.4.0->chromadb)\n",
            "  Downloading monotonic-1.6-py2.py3-none-any.whl.metadata (1.5 kB)\n",
            "Collecting backoff>=1.10.0 (from posthog>=2.4.0->chromadb)\n",
            "  Downloading backoff-2.2.1-py3-none-any.whl.metadata (14 kB)\n",
            "Requirement already satisfied: distro>=1.5.0 in /usr/local/lib/python3.11/dist-packages (from posthog>=2.4.0->chromadb) (1.9.0)\n",
            "Requirement already satisfied: annotated-types>=0.6.0 in /usr/local/lib/python3.11/dist-packages (from pydantic>=1.9->chromadb) (0.7.0)\n",
            "Requirement already satisfied: pydantic-core==2.27.2 in /usr/local/lib/python3.11/dist-packages (from pydantic>=1.9->chromadb) (2.27.2)\n",
            "Requirement already satisfied: markdown-it-py>=2.2.0 in /usr/local/lib/python3.11/dist-packages (from rich>=10.11.0->chromadb) (3.0.0)\n",
            "Requirement already satisfied: pygments<3.0.0,>=2.13.0 in /usr/local/lib/python3.11/dist-packages (from rich>=10.11.0->chromadb) (2.18.0)\n",
            "Requirement already satisfied: huggingface-hub<1.0,>=0.16.4 in /usr/local/lib/python3.11/dist-packages (from tokenizers>=0.13.2->chromadb) (0.29.3)\n",
            "Requirement already satisfied: click>=8.0.0 in /usr/local/lib/python3.11/dist-packages (from typer>=0.9.0->chromadb) (8.1.8)\n",
            "Requirement already satisfied: shellingham>=1.3.0 in /usr/local/lib/python3.11/dist-packages (from typer>=0.9.0->chromadb) (1.5.4)\n",
            "Collecting httptools>=0.6.3 (from uvicorn[standard]>=0.18.3->chromadb)\n",
            "  Downloading httptools-0.6.4-cp311-cp311-manylinux_2_5_x86_64.manylinux1_x86_64.manylinux_2_17_x86_64.manylinux2014_x86_64.whl.metadata (3.6 kB)\n",
            "Collecting python-dotenv>=0.13 (from uvicorn[standard]>=0.18.3->chromadb)\n",
            "  Using cached python_dotenv-1.0.1-py3-none-any.whl.metadata (23 kB)\n",
            "Collecting uvloop!=0.15.0,!=0.15.1,>=0.14.0 (from uvicorn[standard]>=0.18.3->chromadb)\n",
            "  Downloading uvloop-0.21.0-cp311-cp311-manylinux_2_17_x86_64.manylinux2014_x86_64.whl.metadata (4.9 kB)\n",
            "Collecting watchfiles>=0.13 (from uvicorn[standard]>=0.18.3->chromadb)\n",
            "  Downloading watchfiles-1.0.4-cp311-cp311-manylinux_2_17_x86_64.manylinux2014_x86_64.whl.metadata (4.9 kB)\n",
            "Requirement already satisfied: websockets>=10.4 in /usr/local/lib/python3.11/dist-packages (from uvicorn[standard]>=0.18.3->chromadb) (14.2)\n",
            "Requirement already satisfied: cachetools<6.0,>=2.0.0 in /usr/local/lib/python3.11/dist-packages (from google-auth>=1.0.1->kubernetes>=28.1.0->chromadb) (5.5.2)\n",
            "Requirement already satisfied: pyasn1-modules>=0.2.1 in /usr/local/lib/python3.11/dist-packages (from google-auth>=1.0.1->kubernetes>=28.1.0->chromadb) (0.4.1)\n",
            "Requirement already satisfied: rsa<5,>=3.1.4 in /usr/local/lib/python3.11/dist-packages (from google-auth>=1.0.1->kubernetes>=28.1.0->chromadb) (4.9)\n",
            "Requirement already satisfied: filelock in /usr/local/lib/python3.11/dist-packages (from huggingface-hub<1.0,>=0.16.4->tokenizers>=0.13.2->chromadb) (3.18.0)\n",
            "Requirement already satisfied: fsspec>=2023.5.0 in /usr/local/lib/python3.11/dist-packages (from huggingface-hub<1.0,>=0.16.4->tokenizers>=0.13.2->chromadb) (2025.3.0)\n",
            "Requirement already satisfied: zipp>=3.20 in /usr/local/lib/python3.11/dist-packages (from importlib-metadata<8.7.0,>=6.0->opentelemetry-api>=1.2.0->chromadb) (3.21.0)\n",
            "Requirement already satisfied: mdurl~=0.1 in /usr/local/lib/python3.11/dist-packages (from markdown-it-py>=2.2.0->rich>=10.11.0->chromadb) (0.1.2)\n",
            "Requirement already satisfied: charset-normalizer<4,>=2 in /usr/local/lib/python3.11/dist-packages (from requests->kubernetes>=28.1.0->chromadb) (3.4.1)\n",
            "Requirement already satisfied: sniffio>=1.1 in /usr/local/lib/python3.11/dist-packages (from anyio->httpx>=0.27.0->chromadb) (1.3.1)\n",
            "Collecting humanfriendly>=9.1 (from coloredlogs->onnxruntime>=1.14.1->chromadb)\n",
            "  Downloading humanfriendly-10.0-py2.py3-none-any.whl.metadata (9.2 kB)\n",
            "Requirement already satisfied: mpmath<1.4,>=1.1.0 in /usr/local/lib/python3.11/dist-packages (from sympy->onnxruntime>=1.14.1->chromadb) (1.3.0)\n",
            "Requirement already satisfied: pyasn1<0.7.0,>=0.4.6 in /usr/local/lib/python3.11/dist-packages (from pyasn1-modules>=0.2.1->google-auth>=1.0.1->kubernetes>=28.1.0->chromadb) (0.6.1)\n",
            "Downloading chromadb-0.6.3-py3-none-any.whl (611 kB)\n",
            "\u001b[2K   \u001b[90m━━━━━━━━━━━━━━━━━━━━━━━━━━━━━━━━━━━━━━━━\u001b[0m \u001b[32m611.1/611.1 kB\u001b[0m \u001b[31m14.5 MB/s\u001b[0m eta \u001b[36m0:00:00\u001b[0m\n",
            "\u001b[?25hDownloading chroma_hnswlib-0.7.6-cp311-cp311-manylinux_2_17_x86_64.manylinux2014_x86_64.whl (2.4 MB)\n",
            "\u001b[2K   \u001b[90m━━━━━━━━━━━━━━━━━━━━━━━━━━━━━━━━━━━━━━━━\u001b[0m \u001b[32m2.4/2.4 MB\u001b[0m \u001b[31m50.5 MB/s\u001b[0m eta \u001b[36m0:00:00\u001b[0m\n",
            "\u001b[?25hDownloading bcrypt-4.3.0-cp39-abi3-manylinux_2_34_x86_64.whl (284 kB)\n",
            "\u001b[2K   \u001b[90m━━━━━━━━━━━━━━━━━━━━━━━━━━━━━━━━━━━━━━━━\u001b[0m \u001b[32m284.2/284.2 kB\u001b[0m \u001b[31m17.4 MB/s\u001b[0m eta \u001b[36m0:00:00\u001b[0m\n",
            "\u001b[?25hDownloading build-1.2.2.post1-py3-none-any.whl (22 kB)\n",
            "Downloading fastapi-0.115.11-py3-none-any.whl (94 kB)\n",
            "\u001b[2K   \u001b[90m━━━━━━━━━━━━━━━━━━━━━━━━━━━━━━━━━━━━━━━━\u001b[0m \u001b[32m94.9/94.9 kB\u001b[0m \u001b[31m6.0 MB/s\u001b[0m eta \u001b[36m0:00:00\u001b[0m\n",
            "\u001b[?25hDownloading kubernetes-32.0.1-py2.py3-none-any.whl (2.0 MB)\n",
            "\u001b[2K   \u001b[90m━━━━━━━━━━━━━━━━━━━━━━━━━━━━━━━━━━━━━━━━\u001b[0m \u001b[32m2.0/2.0 MB\u001b[0m \u001b[31m49.9 MB/s\u001b[0m eta \u001b[36m0:00:00\u001b[0m\n",
            "\u001b[?25hDownloading mmh3-5.1.0-cp311-cp311-manylinux_2_5_x86_64.manylinux1_x86_64.manylinux_2_17_x86_64.manylinux2014_x86_64.whl (101 kB)\n",
            "\u001b[2K   \u001b[90m━━━━━━━━━━━━━━━━━━━━━━━━━━━━━━━━━━━━━━━━\u001b[0m \u001b[32m101.6/101.6 kB\u001b[0m \u001b[31m6.2 MB/s\u001b[0m eta \u001b[36m0:00:00\u001b[0m\n",
            "\u001b[?25hDownloading onnxruntime-1.21.0-cp311-cp311-manylinux_2_27_x86_64.manylinux_2_28_x86_64.whl (16.0 MB)\n",
            "\u001b[2K   \u001b[90m━━━━━━━━━━━━━━━━━━━━━━━━━━━━━━━━━━━━━━━━\u001b[0m \u001b[32m16.0/16.0 MB\u001b[0m \u001b[31m53.6 MB/s\u001b[0m eta \u001b[36m0:00:00\u001b[0m\n",
            "\u001b[?25hDownloading opentelemetry_exporter_otlp_proto_grpc-1.31.1-py3-none-any.whl (18 kB)\n",
            "Downloading opentelemetry_exporter_otlp_proto_common-1.31.1-py3-none-any.whl (18 kB)\n",
            "Downloading opentelemetry_proto-1.31.1-py3-none-any.whl (55 kB)\n",
            "\u001b[2K   \u001b[90m━━━━━━━━━━━━━━━━━━━━━━━━━━━━━━━━━━━━━━━━\u001b[0m \u001b[32m55.9/55.9 kB\u001b[0m \u001b[31m3.4 MB/s\u001b[0m eta \u001b[36m0:00:00\u001b[0m\n",
            "\u001b[?25hDownloading opentelemetry_instrumentation_fastapi-0.52b1-py3-none-any.whl (12 kB)\n",
            "Downloading opentelemetry_instrumentation-0.52b1-py3-none-any.whl (31 kB)\n",
            "Downloading opentelemetry_instrumentation_asgi-0.52b1-py3-none-any.whl (16 kB)\n",
            "Downloading opentelemetry_semantic_conventions-0.52b1-py3-none-any.whl (183 kB)\n",
            "\u001b[2K   \u001b[90m━━━━━━━━━━━━━━━━━━━━━━━━━━━━━━━━━━━━━━━━\u001b[0m \u001b[32m183.4/183.4 kB\u001b[0m \u001b[31m11.0 MB/s\u001b[0m eta \u001b[36m0:00:00\u001b[0m\n",
            "\u001b[?25hDownloading opentelemetry_api-1.31.1-py3-none-any.whl (65 kB)\n",
            "\u001b[2K   \u001b[90m━━━━━━━━━━━━━━━━━━━━━━━━━━━━━━━━━━━━━━━━\u001b[0m \u001b[32m65.2/65.2 kB\u001b[0m \u001b[31m3.8 MB/s\u001b[0m eta \u001b[36m0:00:00\u001b[0m\n",
            "\u001b[?25hDownloading opentelemetry_util_http-0.52b1-py3-none-any.whl (7.3 kB)\n",
            "Downloading opentelemetry_sdk-1.31.1-py3-none-any.whl (118 kB)\n",
            "\u001b[2K   \u001b[90m━━━━━━━━━━━━━━━━━━━━━━━━━━━━━━━━━━━━━━━━\u001b[0m \u001b[32m118.9/118.9 kB\u001b[0m \u001b[31m6.6 MB/s\u001b[0m eta \u001b[36m0:00:00\u001b[0m\n",
            "\u001b[?25hDownloading overrides-7.7.0-py3-none-any.whl (17 kB)\n",
            "Downloading posthog-3.21.0-py2.py3-none-any.whl (79 kB)\n",
            "\u001b[2K   \u001b[90m━━━━━━━━━━━━━━━━━━━━━━━━━━━━━━━━━━━━━━━━\u001b[0m \u001b[32m79.6/79.6 kB\u001b[0m \u001b[31m3.9 MB/s\u001b[0m eta \u001b[36m0:00:00\u001b[0m\n",
            "\u001b[?25hDownloading uvicorn-0.34.0-py3-none-any.whl (62 kB)\n",
            "\u001b[2K   \u001b[90m━━━━━━━━━━━━━━━━━━━━━━━━━━━━━━━━━━━━━━━━\u001b[0m \u001b[32m62.3/62.3 kB\u001b[0m \u001b[31m3.5 MB/s\u001b[0m eta \u001b[36m0:00:00\u001b[0m\n",
            "\u001b[?25hDownloading backoff-2.2.1-py3-none-any.whl (15 kB)\n",
            "Downloading durationpy-0.9-py3-none-any.whl (3.5 kB)\n",
            "Downloading httptools-0.6.4-cp311-cp311-manylinux_2_5_x86_64.manylinux1_x86_64.manylinux_2_17_x86_64.manylinux2014_x86_64.whl (459 kB)\n",
            "\u001b[2K   \u001b[90m━━━━━━━━━━━━━━━━━━━━━━━━━━━━━━━━━━━━━━━━\u001b[0m \u001b[32m459.8/459.8 kB\u001b[0m \u001b[31m23.3 MB/s\u001b[0m eta \u001b[36m0:00:00\u001b[0m\n",
            "\u001b[?25hDownloading monotonic-1.6-py2.py3-none-any.whl (8.2 kB)\n",
            "Downloading python_dotenv-1.0.1-py3-none-any.whl (19 kB)\n",
            "Downloading starlette-0.46.1-py3-none-any.whl (71 kB)\n",
            "\u001b[2K   \u001b[90m━━━━━━━━━━━━━━━━━━━━━━━━━━━━━━━━━━━━━━━━\u001b[0m \u001b[32m72.0/72.0 kB\u001b[0m \u001b[31m4.7 MB/s\u001b[0m eta \u001b[36m0:00:00\u001b[0m\n",
            "\u001b[?25hDownloading uvloop-0.21.0-cp311-cp311-manylinux_2_17_x86_64.manylinux2014_x86_64.whl (4.0 MB)\n",
            "\u001b[2K   \u001b[90m━━━━━━━━━━━━━━━━━━━━━━━━━━━━━━━━━━━━━━━━\u001b[0m \u001b[32m4.0/4.0 MB\u001b[0m \u001b[31m58.1 MB/s\u001b[0m eta \u001b[36m0:00:00\u001b[0m\n",
            "\u001b[?25hDownloading watchfiles-1.0.4-cp311-cp311-manylinux_2_17_x86_64.manylinux2014_x86_64.whl (452 kB)\n",
            "\u001b[2K   \u001b[90m━━━━━━━━━━━━━━━━━━━━━━━━━━━━━━━━━━━━━━━━\u001b[0m \u001b[32m452.6/452.6 kB\u001b[0m \u001b[31m21.2 MB/s\u001b[0m eta \u001b[36m0:00:00\u001b[0m\n",
            "\u001b[?25hDownloading coloredlogs-15.0.1-py2.py3-none-any.whl (46 kB)\n",
            "\u001b[2K   \u001b[90m━━━━━━━━━━━━━━━━━━━━━━━━━━━━━━━━━━━━━━━━\u001b[0m \u001b[32m46.0/46.0 kB\u001b[0m \u001b[31m2.4 MB/s\u001b[0m eta \u001b[36m0:00:00\u001b[0m\n",
            "\u001b[?25hDownloading pyproject_hooks-1.2.0-py3-none-any.whl (10 kB)\n",
            "Downloading asgiref-3.8.1-py3-none-any.whl (23 kB)\n",
            "Downloading humanfriendly-10.0-py2.py3-none-any.whl (86 kB)\n",
            "\u001b[2K   \u001b[90m━━━━━━━━━━━━━━━━━━━━━━━━━━━━━━━━━━━━━━━━\u001b[0m \u001b[32m86.8/86.8 kB\u001b[0m \u001b[31m5.5 MB/s\u001b[0m eta \u001b[36m0:00:00\u001b[0m\n",
            "\u001b[?25hBuilding wheels for collected packages: pypika\n",
            "  Building wheel for pypika (pyproject.toml) ... \u001b[?25l\u001b[?25hdone\n",
            "  Created wheel for pypika: filename=pypika-0.48.9-py2.py3-none-any.whl size=53801 sha256=32ffe6b869a77da3e0fe8a46ae233b8df390798c9a38d654232490d806545038\n",
            "  Stored in directory: /root/.cache/pip/wheels/a3/01/bd/4c40ceb9d5354160cb186dcc153360f4ab7eb23e2b24daf96d\n",
            "Successfully built pypika\n",
            "Installing collected packages: pypika, monotonic, durationpy, uvloop, uvicorn, python-dotenv, pyproject_hooks, overrides, opentelemetry-util-http, opentelemetry-proto, mmh3, humanfriendly, httptools, chroma-hnswlib, bcrypt, backoff, asgiref, watchfiles, starlette, posthog, opentelemetry-exporter-otlp-proto-common, opentelemetry-api, coloredlogs, build, opentelemetry-semantic-conventions, onnxruntime, kubernetes, fastapi, opentelemetry-sdk, opentelemetry-instrumentation, opentelemetry-instrumentation-asgi, opentelemetry-exporter-otlp-proto-grpc, opentelemetry-instrumentation-fastapi, chromadb\n",
            "  Attempting uninstall: opentelemetry-api\n",
            "    Found existing installation: opentelemetry-api 1.31.0\n",
            "    Uninstalling opentelemetry-api-1.31.0:\n",
            "      Successfully uninstalled opentelemetry-api-1.31.0\n",
            "  Attempting uninstall: opentelemetry-semantic-conventions\n",
            "    Found existing installation: opentelemetry-semantic-conventions 0.52b0\n",
            "    Uninstalling opentelemetry-semantic-conventions-0.52b0:\n",
            "      Successfully uninstalled opentelemetry-semantic-conventions-0.52b0\n",
            "  Attempting uninstall: opentelemetry-sdk\n",
            "    Found existing installation: opentelemetry-sdk 1.31.0\n",
            "    Uninstalling opentelemetry-sdk-1.31.0:\n",
            "      Successfully uninstalled opentelemetry-sdk-1.31.0\n",
            "Successfully installed asgiref-3.8.1 backoff-2.2.1 bcrypt-4.3.0 build-1.2.2.post1 chroma-hnswlib-0.7.6 chromadb-0.6.3 coloredlogs-15.0.1 durationpy-0.9 fastapi-0.115.11 httptools-0.6.4 humanfriendly-10.0 kubernetes-32.0.1 mmh3-5.1.0 monotonic-1.6 onnxruntime-1.21.0 opentelemetry-api-1.31.1 opentelemetry-exporter-otlp-proto-common-1.31.1 opentelemetry-exporter-otlp-proto-grpc-1.31.1 opentelemetry-instrumentation-0.52b1 opentelemetry-instrumentation-asgi-0.52b1 opentelemetry-instrumentation-fastapi-0.52b1 opentelemetry-proto-1.31.1 opentelemetry-sdk-1.31.1 opentelemetry-semantic-conventions-0.52b1 opentelemetry-util-http-0.52b1 overrides-7.7.0 posthog-3.21.0 pypika-0.48.9 pyproject_hooks-1.2.0 python-dotenv-1.0.1 starlette-0.46.1 uvicorn-0.34.0 uvloop-0.21.0 watchfiles-1.0.4\n"
          ]
        }
      ]
    },
    {
      "cell_type": "code",
      "source": [
        "import chromadb\n",
        "client = chromadb.PersistentClient(path=\"./chroma_db\")"
      ],
      "metadata": {
        "id": "pnyyuIfvuE8C"
      },
      "execution_count": 2,
      "outputs": []
    },
    {
      "cell_type": "markdown",
      "source": [
        "Inside the **sqlite3 file meta data and documents** will be stored<br>\n",
        "Inside **Meta data** we store the data in the form of **key-value pairs**(helps to extract the value based on key)"
      ],
      "metadata": {
        "id": "fDwcyng5ulN2"
      }
    },
    {
      "cell_type": "code",
      "source": [
        "#Creating a collection\n",
        "collection = client.create_collection(name=\"Sample1_collection\")\n",
        "\n",
        "#Inserting sample data (ID, embeddings metadata)\n",
        "collection.add(\n",
        "    ids = ['1','2','3','4'],\n",
        "    embeddings = [[0.1,0.2,0.19,2.19],[1.2,2.3,3.2,1.3],[1.23,3.23,1.54,2.03],[1.24,1.90,2.10,2.87]],\n",
        "    metadatas = [{\"Name\" : \"Gowtamy\"},{\"Grad\" : \"Masters\"},{\"Major\" : \"IT\"},{\"University\" : \"KSU\"}]\n",
        "\n",
        "\n",
        ")"
      ],
      "metadata": {
        "id": "evgeh5qeuX6O"
      },
      "execution_count": 3,
      "outputs": []
    },
    {
      "cell_type": "code",
      "source": [
        "#READ on Vectors\n",
        "print(\"Currently these are the available collections\",client.list_collections())"
      ],
      "metadata": {
        "colab": {
          "base_uri": "https://localhost:8080/"
        },
        "id": "YhskZhB2w52T",
        "outputId": "ad5cc6b3-f76e-4c24-d735-dce3c13f508b"
      },
      "execution_count": 4,
      "outputs": [
        {
          "output_type": "stream",
          "name": "stdout",
          "text": [
            "Currently these are the available collections ['Sample1_collection']\n"
          ]
        }
      ]
    },
    {
      "cell_type": "code",
      "source": [
        "#To get the data of particular collection\n",
        "print(\"Fetching data from Sample_collection\",collection.get(ids=[\"2\"]))"
      ],
      "metadata": {
        "colab": {
          "base_uri": "https://localhost:8080/"
        },
        "id": "whc0kxrVyEUG",
        "outputId": "94558123-4cce-4611-fecd-a9fbbffe6e8a"
      },
      "execution_count": 5,
      "outputs": [
        {
          "output_type": "stream",
          "name": "stdout",
          "text": [
            "Fetching data from Sample_collection {'ids': ['2'], 'embeddings': None, 'documents': [None], 'uris': None, 'data': None, 'metadatas': [{'Grad': 'Masters'}], 'included': [<IncludeEnum.documents: 'documents'>, <IncludeEnum.metadatas: 'metadatas'>]}\n"
          ]
        }
      ]
    },
    {
      "cell_type": "code",
      "source": [
        "#To include the embeddings and metadata(use include())\n",
        "print(\"Fetching data from Sample_collection\",collection.get(ids=[\"2\"],include=[\"embeddings\",\"metadatas\"]))\n"
      ],
      "metadata": {
        "colab": {
          "base_uri": "https://localhost:8080/"
        },
        "id": "n-1RMpuLyfdT",
        "outputId": "f2c5d050-afdd-4b39-f254-42f61cd8d997"
      },
      "execution_count": 6,
      "outputs": [
        {
          "output_type": "stream",
          "name": "stdout",
          "text": [
            "Fetching data from Sample_collection {'ids': ['2'], 'embeddings': array([[1.20000005, 2.29999995, 3.20000005, 1.29999995]]), 'documents': None, 'uris': None, 'data': None, 'metadatas': [{'Grad': 'Masters'}], 'included': [<IncludeEnum.embeddings: 'embeddings'>, <IncludeEnum.metadatas: 'metadatas'>]}\n"
          ]
        }
      ]
    },
    {
      "cell_type": "markdown",
      "source": [
        "Documents -- > the actual doc for reference(usually actual doc embedded is stored )"
      ],
      "metadata": {
        "id": "wpA3kfH7y5ZT"
      }
    },
    {
      "cell_type": "code",
      "source": [
        "#To create a new doc with an id\n",
        "collection.add(\n",
        "    ids = [\"6\"],\n",
        "    embeddings = [[0.9,0.7,0.5,0.9]],\n",
        "    documents = [\"Gowtamy landed into Data Scientist role at META\"]\n",
        ")"
      ],
      "metadata": {
        "id": "5GE2Htijywbe"
      },
      "execution_count": 7,
      "outputs": []
    },
    {
      "cell_type": "code",
      "source": [
        "#(Query)\n",
        "collection.query(\n",
        "    query_embeddings = [[0.1,0.2,0.19,2.19]],\n",
        "    n_results = 2,\n",
        "    include=[\"documents\",\"metadatas\"]\n",
        "\n",
        ")"
      ],
      "metadata": {
        "colab": {
          "base_uri": "https://localhost:8080/"
        },
        "id": "YXTEO7u_zs9T",
        "outputId": "db8d6227-7c16-43ff-e930-72a5f95629a6"
      },
      "execution_count": 8,
      "outputs": [
        {
          "output_type": "execute_result",
          "data": {
            "text/plain": [
              "{'ids': [['1', '6']],\n",
              " 'embeddings': None,\n",
              " 'documents': [[None, 'Gowtamy landed into Data Scientist role at META']],\n",
              " 'uris': None,\n",
              " 'data': None,\n",
              " 'metadatas': [[{'Name': 'Gowtamy'}, None]],\n",
              " 'distances': None,\n",
              " 'included': [<IncludeEnum.documents: 'documents'>,\n",
              "  <IncludeEnum.metadatas: 'metadatas'>]}"
            ]
          },
          "metadata": {},
          "execution_count": 8
        }
      ]
    },
    {
      "cell_type": "code",
      "source": [
        "#UPDATE\n",
        "collection.update(\n",
        "    ids = [\"6\"],\n",
        "    embeddings=[[0.1,0.2,0.19,2.19]],\n",
        "    documents=[\"Gowtamy landed into Data Scientist role at Google\"]\n",
        "\n",
        ")"
      ],
      "metadata": {
        "id": "hBUQyKcm1AZM"
      },
      "execution_count": 9,
      "outputs": []
    },
    {
      "cell_type": "code",
      "source": [
        "#To include the embeddings and metadata(use include())\n",
        "print(\"Fetching data from Sample_collection\",collection.get(ids=[\"6\"],include=[\"embeddings\",\"metadatas\",\"documents\"]))\n"
      ],
      "metadata": {
        "colab": {
          "base_uri": "https://localhost:8080/"
        },
        "id": "QeVDdHOA1pnx",
        "outputId": "0ac2b743-15ae-40b9-9efa-5a6e78675427"
      },
      "execution_count": 10,
      "outputs": [
        {
          "output_type": "stream",
          "name": "stdout",
          "text": [
            "Fetching data from Sample_collection {'ids': ['6'], 'embeddings': array([[0.1       , 0.2       , 0.19      , 2.19000006]]), 'documents': ['Gowtamy landed into Data Scientist role at Google'], 'uris': None, 'data': None, 'metadatas': [None], 'included': [<IncludeEnum.embeddings: 'embeddings'>, <IncludeEnum.documents: 'documents'>, <IncludeEnum.metadatas: 'metadatas'>]}\n"
          ]
        }
      ]
    },
    {
      "cell_type": "code",
      "source": [
        "#Delete\n",
        "collection.delete(ids=[\"1\"])"
      ],
      "metadata": {
        "id": "NBFqsZOo1v3d"
      },
      "execution_count": 11,
      "outputs": []
    },
    {
      "cell_type": "code",
      "source": [
        "print(\"Fetching data from Sample_collection\",collection.get(ids=[\"1\"],include=[\"embeddings\",\"metadatas\",\"documents\"]))\n"
      ],
      "metadata": {
        "colab": {
          "base_uri": "https://localhost:8080/"
        },
        "id": "G4GJVn_L2B8c",
        "outputId": "b9eabd92-9d82-474d-d312-9668c02bcae6"
      },
      "execution_count": 12,
      "outputs": [
        {
          "output_type": "stream",
          "name": "stdout",
          "text": [
            "Fetching data from Sample_collection {'ids': [], 'embeddings': array([], dtype=float64), 'documents': [], 'uris': None, 'data': None, 'metadatas': [], 'included': [<IncludeEnum.embeddings: 'embeddings'>, <IncludeEnum.documents: 'documents'>, <IncludeEnum.metadatas: 'metadatas'>]}\n"
          ]
        }
      ]
    },
    {
      "cell_type": "markdown",
      "source": [
        "##GROC EMBEDDING"
      ],
      "metadata": {
        "id": "-nFwYQK22O9G"
      }
    },
    {
      "cell_type": "code",
      "source": [
        "pip install sentence-transformers chromadb langchain langchain_groq\n"
      ],
      "metadata": {
        "colab": {
          "base_uri": "https://localhost:8080/"
        },
        "id": "LvZ5Vg3-4S7w",
        "outputId": "0c58f46d-909c-449c-d240-c35ff7076aad"
      },
      "execution_count": 44,
      "outputs": [
        {
          "output_type": "stream",
          "name": "stdout",
          "text": [
            "Requirement already satisfied: sentence-transformers in /usr/local/lib/python3.11/dist-packages (3.4.1)\n",
            "Requirement already satisfied: chromadb in /usr/local/lib/python3.11/dist-packages (0.6.3)\n",
            "Requirement already satisfied: langchain in /usr/local/lib/python3.11/dist-packages (0.3.20)\n",
            "Requirement already satisfied: langchain_groq in /usr/local/lib/python3.11/dist-packages (0.3.1)\n",
            "Requirement already satisfied: transformers<5.0.0,>=4.41.0 in /usr/local/lib/python3.11/dist-packages (from sentence-transformers) (4.49.0)\n",
            "Requirement already satisfied: tqdm in /usr/local/lib/python3.11/dist-packages (from sentence-transformers) (4.67.1)\n",
            "Requirement already satisfied: torch>=1.11.0 in /usr/local/lib/python3.11/dist-packages (from sentence-transformers) (2.6.0+cu124)\n",
            "Requirement already satisfied: scikit-learn in /usr/local/lib/python3.11/dist-packages (from sentence-transformers) (1.6.1)\n",
            "Requirement already satisfied: scipy in /usr/local/lib/python3.11/dist-packages (from sentence-transformers) (1.14.1)\n",
            "Requirement already satisfied: huggingface-hub>=0.20.0 in /usr/local/lib/python3.11/dist-packages (from sentence-transformers) (0.29.3)\n",
            "Requirement already satisfied: Pillow in /usr/local/lib/python3.11/dist-packages (from sentence-transformers) (11.1.0)\n",
            "Requirement already satisfied: build>=1.0.3 in /usr/local/lib/python3.11/dist-packages (from chromadb) (1.2.2.post1)\n",
            "Requirement already satisfied: pydantic>=1.9 in /usr/local/lib/python3.11/dist-packages (from chromadb) (2.10.6)\n",
            "Requirement already satisfied: chroma-hnswlib==0.7.6 in /usr/local/lib/python3.11/dist-packages (from chromadb) (0.7.6)\n",
            "Requirement already satisfied: fastapi>=0.95.2 in /usr/local/lib/python3.11/dist-packages (from chromadb) (0.115.11)\n",
            "Requirement already satisfied: uvicorn>=0.18.3 in /usr/local/lib/python3.11/dist-packages (from uvicorn[standard]>=0.18.3->chromadb) (0.34.0)\n",
            "Requirement already satisfied: numpy>=1.22.5 in /usr/local/lib/python3.11/dist-packages (from chromadb) (2.0.2)\n",
            "Requirement already satisfied: posthog>=2.4.0 in /usr/local/lib/python3.11/dist-packages (from chromadb) (3.21.0)\n",
            "Requirement already satisfied: typing_extensions>=4.5.0 in /usr/local/lib/python3.11/dist-packages (from chromadb) (4.12.2)\n",
            "Requirement already satisfied: onnxruntime>=1.14.1 in /usr/local/lib/python3.11/dist-packages (from chromadb) (1.21.0)\n",
            "Requirement already satisfied: opentelemetry-api>=1.2.0 in /usr/local/lib/python3.11/dist-packages (from chromadb) (1.31.1)\n",
            "Requirement already satisfied: opentelemetry-exporter-otlp-proto-grpc>=1.2.0 in /usr/local/lib/python3.11/dist-packages (from chromadb) (1.31.1)\n",
            "Requirement already satisfied: opentelemetry-instrumentation-fastapi>=0.41b0 in /usr/local/lib/python3.11/dist-packages (from chromadb) (0.52b1)\n",
            "Requirement already satisfied: opentelemetry-sdk>=1.2.0 in /usr/local/lib/python3.11/dist-packages (from chromadb) (1.31.1)\n",
            "Requirement already satisfied: tokenizers>=0.13.2 in /usr/local/lib/python3.11/dist-packages (from chromadb) (0.21.1)\n",
            "Requirement already satisfied: pypika>=0.48.9 in /usr/local/lib/python3.11/dist-packages (from chromadb) (0.48.9)\n",
            "Requirement already satisfied: overrides>=7.3.1 in /usr/local/lib/python3.11/dist-packages (from chromadb) (7.7.0)\n",
            "Requirement already satisfied: importlib-resources in /usr/local/lib/python3.11/dist-packages (from chromadb) (6.5.2)\n",
            "Requirement already satisfied: grpcio>=1.58.0 in /usr/local/lib/python3.11/dist-packages (from chromadb) (1.71.0)\n",
            "Requirement already satisfied: bcrypt>=4.0.1 in /usr/local/lib/python3.11/dist-packages (from chromadb) (4.3.0)\n",
            "Requirement already satisfied: typer>=0.9.0 in /usr/local/lib/python3.11/dist-packages (from chromadb) (0.15.2)\n",
            "Requirement already satisfied: kubernetes>=28.1.0 in /usr/local/lib/python3.11/dist-packages (from chromadb) (32.0.1)\n",
            "Requirement already satisfied: tenacity>=8.2.3 in /usr/local/lib/python3.11/dist-packages (from chromadb) (9.0.0)\n",
            "Requirement already satisfied: PyYAML>=6.0.0 in /usr/local/lib/python3.11/dist-packages (from chromadb) (6.0.2)\n",
            "Requirement already satisfied: mmh3>=4.0.1 in /usr/local/lib/python3.11/dist-packages (from chromadb) (5.1.0)\n",
            "Requirement already satisfied: orjson>=3.9.12 in /usr/local/lib/python3.11/dist-packages (from chromadb) (3.10.15)\n",
            "Requirement already satisfied: httpx>=0.27.0 in /usr/local/lib/python3.11/dist-packages (from chromadb) (0.28.1)\n",
            "Requirement already satisfied: rich>=10.11.0 in /usr/local/lib/python3.11/dist-packages (from chromadb) (13.9.4)\n",
            "Requirement already satisfied: langchain-core<1.0.0,>=0.3.41 in /usr/local/lib/python3.11/dist-packages (from langchain) (0.3.47)\n",
            "Requirement already satisfied: langchain-text-splitters<1.0.0,>=0.3.6 in /usr/local/lib/python3.11/dist-packages (from langchain) (0.3.6)\n",
            "Requirement already satisfied: langsmith<0.4,>=0.1.17 in /usr/local/lib/python3.11/dist-packages (from langchain) (0.3.15)\n",
            "Requirement already satisfied: SQLAlchemy<3,>=1.4 in /usr/local/lib/python3.11/dist-packages (from langchain) (2.0.39)\n",
            "Requirement already satisfied: requests<3,>=2 in /usr/local/lib/python3.11/dist-packages (from langchain) (2.32.3)\n",
            "Requirement already satisfied: groq<1,>=0.4.1 in /usr/local/lib/python3.11/dist-packages (from langchain_groq) (0.20.0)\n",
            "Requirement already satisfied: packaging>=19.1 in /usr/local/lib/python3.11/dist-packages (from build>=1.0.3->chromadb) (24.2)\n",
            "Requirement already satisfied: pyproject_hooks in /usr/local/lib/python3.11/dist-packages (from build>=1.0.3->chromadb) (1.2.0)\n",
            "Requirement already satisfied: starlette<0.47.0,>=0.40.0 in /usr/local/lib/python3.11/dist-packages (from fastapi>=0.95.2->chromadb) (0.46.1)\n",
            "Requirement already satisfied: anyio<5,>=3.5.0 in /usr/local/lib/python3.11/dist-packages (from groq<1,>=0.4.1->langchain_groq) (4.9.0)\n",
            "Requirement already satisfied: distro<2,>=1.7.0 in /usr/local/lib/python3.11/dist-packages (from groq<1,>=0.4.1->langchain_groq) (1.9.0)\n",
            "Requirement already satisfied: sniffio in /usr/local/lib/python3.11/dist-packages (from groq<1,>=0.4.1->langchain_groq) (1.3.1)\n",
            "Requirement already satisfied: certifi in /usr/local/lib/python3.11/dist-packages (from httpx>=0.27.0->chromadb) (2025.1.31)\n",
            "Requirement already satisfied: httpcore==1.* in /usr/local/lib/python3.11/dist-packages (from httpx>=0.27.0->chromadb) (1.0.7)\n",
            "Requirement already satisfied: idna in /usr/local/lib/python3.11/dist-packages (from httpx>=0.27.0->chromadb) (3.10)\n",
            "Requirement already satisfied: h11<0.15,>=0.13 in /usr/local/lib/python3.11/dist-packages (from httpcore==1.*->httpx>=0.27.0->chromadb) (0.14.0)\n",
            "Requirement already satisfied: filelock in /usr/local/lib/python3.11/dist-packages (from huggingface-hub>=0.20.0->sentence-transformers) (3.18.0)\n",
            "Requirement already satisfied: fsspec>=2023.5.0 in /usr/local/lib/python3.11/dist-packages (from huggingface-hub>=0.20.0->sentence-transformers) (2025.3.0)\n",
            "Requirement already satisfied: six>=1.9.0 in /usr/local/lib/python3.11/dist-packages (from kubernetes>=28.1.0->chromadb) (1.17.0)\n",
            "Requirement already satisfied: python-dateutil>=2.5.3 in /usr/local/lib/python3.11/dist-packages (from kubernetes>=28.1.0->chromadb) (2.8.2)\n",
            "Requirement already satisfied: google-auth>=1.0.1 in /usr/local/lib/python3.11/dist-packages (from kubernetes>=28.1.0->chromadb) (2.38.0)\n",
            "Requirement already satisfied: websocket-client!=0.40.0,!=0.41.*,!=0.42.*,>=0.32.0 in /usr/local/lib/python3.11/dist-packages (from kubernetes>=28.1.0->chromadb) (1.8.0)\n",
            "Requirement already satisfied: requests-oauthlib in /usr/local/lib/python3.11/dist-packages (from kubernetes>=28.1.0->chromadb) (2.0.0)\n",
            "Requirement already satisfied: oauthlib>=3.2.2 in /usr/local/lib/python3.11/dist-packages (from kubernetes>=28.1.0->chromadb) (3.2.2)\n",
            "Requirement already satisfied: urllib3>=1.24.2 in /usr/local/lib/python3.11/dist-packages (from kubernetes>=28.1.0->chromadb) (2.3.0)\n",
            "Requirement already satisfied: durationpy>=0.7 in /usr/local/lib/python3.11/dist-packages (from kubernetes>=28.1.0->chromadb) (0.9)\n",
            "Requirement already satisfied: jsonpatch<2.0,>=1.33 in /usr/local/lib/python3.11/dist-packages (from langchain-core<1.0.0,>=0.3.41->langchain) (1.33)\n",
            "Requirement already satisfied: requests-toolbelt<2.0.0,>=1.0.0 in /usr/local/lib/python3.11/dist-packages (from langsmith<0.4,>=0.1.17->langchain) (1.0.0)\n",
            "Requirement already satisfied: zstandard<0.24.0,>=0.23.0 in /usr/local/lib/python3.11/dist-packages (from langsmith<0.4,>=0.1.17->langchain) (0.23.0)\n",
            "Requirement already satisfied: coloredlogs in /usr/local/lib/python3.11/dist-packages (from onnxruntime>=1.14.1->chromadb) (15.0.1)\n",
            "Requirement already satisfied: flatbuffers in /usr/local/lib/python3.11/dist-packages (from onnxruntime>=1.14.1->chromadb) (25.2.10)\n",
            "Requirement already satisfied: protobuf in /usr/local/lib/python3.11/dist-packages (from onnxruntime>=1.14.1->chromadb) (5.29.3)\n",
            "Requirement already satisfied: sympy in /usr/local/lib/python3.11/dist-packages (from onnxruntime>=1.14.1->chromadb) (1.13.1)\n",
            "Requirement already satisfied: deprecated>=1.2.6 in /usr/local/lib/python3.11/dist-packages (from opentelemetry-api>=1.2.0->chromadb) (1.2.18)\n",
            "Requirement already satisfied: importlib-metadata<8.7.0,>=6.0 in /usr/local/lib/python3.11/dist-packages (from opentelemetry-api>=1.2.0->chromadb) (8.6.1)\n",
            "Requirement already satisfied: googleapis-common-protos~=1.52 in /usr/local/lib/python3.11/dist-packages (from opentelemetry-exporter-otlp-proto-grpc>=1.2.0->chromadb) (1.69.2)\n",
            "Requirement already satisfied: opentelemetry-exporter-otlp-proto-common==1.31.1 in /usr/local/lib/python3.11/dist-packages (from opentelemetry-exporter-otlp-proto-grpc>=1.2.0->chromadb) (1.31.1)\n",
            "Requirement already satisfied: opentelemetry-proto==1.31.1 in /usr/local/lib/python3.11/dist-packages (from opentelemetry-exporter-otlp-proto-grpc>=1.2.0->chromadb) (1.31.1)\n",
            "Requirement already satisfied: opentelemetry-instrumentation-asgi==0.52b1 in /usr/local/lib/python3.11/dist-packages (from opentelemetry-instrumentation-fastapi>=0.41b0->chromadb) (0.52b1)\n",
            "Requirement already satisfied: opentelemetry-instrumentation==0.52b1 in /usr/local/lib/python3.11/dist-packages (from opentelemetry-instrumentation-fastapi>=0.41b0->chromadb) (0.52b1)\n",
            "Requirement already satisfied: opentelemetry-semantic-conventions==0.52b1 in /usr/local/lib/python3.11/dist-packages (from opentelemetry-instrumentation-fastapi>=0.41b0->chromadb) (0.52b1)\n",
            "Requirement already satisfied: opentelemetry-util-http==0.52b1 in /usr/local/lib/python3.11/dist-packages (from opentelemetry-instrumentation-fastapi>=0.41b0->chromadb) (0.52b1)\n",
            "Requirement already satisfied: wrapt<2.0.0,>=1.0.0 in /usr/local/lib/python3.11/dist-packages (from opentelemetry-instrumentation==0.52b1->opentelemetry-instrumentation-fastapi>=0.41b0->chromadb) (1.17.2)\n",
            "Requirement already satisfied: asgiref~=3.0 in /usr/local/lib/python3.11/dist-packages (from opentelemetry-instrumentation-asgi==0.52b1->opentelemetry-instrumentation-fastapi>=0.41b0->chromadb) (3.8.1)\n",
            "Requirement already satisfied: monotonic>=1.5 in /usr/local/lib/python3.11/dist-packages (from posthog>=2.4.0->chromadb) (1.6)\n",
            "Requirement already satisfied: backoff>=1.10.0 in /usr/local/lib/python3.11/dist-packages (from posthog>=2.4.0->chromadb) (2.2.1)\n",
            "Requirement already satisfied: annotated-types>=0.6.0 in /usr/local/lib/python3.11/dist-packages (from pydantic>=1.9->chromadb) (0.7.0)\n",
            "Requirement already satisfied: pydantic-core==2.27.2 in /usr/local/lib/python3.11/dist-packages (from pydantic>=1.9->chromadb) (2.27.2)\n",
            "Requirement already satisfied: charset-normalizer<4,>=2 in /usr/local/lib/python3.11/dist-packages (from requests<3,>=2->langchain) (3.4.1)\n",
            "Requirement already satisfied: markdown-it-py>=2.2.0 in /usr/local/lib/python3.11/dist-packages (from rich>=10.11.0->chromadb) (3.0.0)\n",
            "Requirement already satisfied: pygments<3.0.0,>=2.13.0 in /usr/local/lib/python3.11/dist-packages (from rich>=10.11.0->chromadb) (2.18.0)\n",
            "Requirement already satisfied: greenlet!=0.4.17 in /usr/local/lib/python3.11/dist-packages (from SQLAlchemy<3,>=1.4->langchain) (3.1.1)\n",
            "Requirement already satisfied: networkx in /usr/local/lib/python3.11/dist-packages (from torch>=1.11.0->sentence-transformers) (3.4.2)\n",
            "Requirement already satisfied: jinja2 in /usr/local/lib/python3.11/dist-packages (from torch>=1.11.0->sentence-transformers) (3.1.6)\n",
            "Collecting nvidia-cuda-nvrtc-cu12==12.4.127 (from torch>=1.11.0->sentence-transformers)\n",
            "  Downloading nvidia_cuda_nvrtc_cu12-12.4.127-py3-none-manylinux2014_x86_64.whl.metadata (1.5 kB)\n",
            "Collecting nvidia-cuda-runtime-cu12==12.4.127 (from torch>=1.11.0->sentence-transformers)\n",
            "  Downloading nvidia_cuda_runtime_cu12-12.4.127-py3-none-manylinux2014_x86_64.whl.metadata (1.5 kB)\n",
            "Collecting nvidia-cuda-cupti-cu12==12.4.127 (from torch>=1.11.0->sentence-transformers)\n",
            "  Downloading nvidia_cuda_cupti_cu12-12.4.127-py3-none-manylinux2014_x86_64.whl.metadata (1.6 kB)\n",
            "Collecting nvidia-cudnn-cu12==9.1.0.70 (from torch>=1.11.0->sentence-transformers)\n",
            "  Downloading nvidia_cudnn_cu12-9.1.0.70-py3-none-manylinux2014_x86_64.whl.metadata (1.6 kB)\n",
            "Collecting nvidia-cublas-cu12==12.4.5.8 (from torch>=1.11.0->sentence-transformers)\n",
            "  Downloading nvidia_cublas_cu12-12.4.5.8-py3-none-manylinux2014_x86_64.whl.metadata (1.5 kB)\n",
            "Collecting nvidia-cufft-cu12==11.2.1.3 (from torch>=1.11.0->sentence-transformers)\n",
            "  Downloading nvidia_cufft_cu12-11.2.1.3-py3-none-manylinux2014_x86_64.whl.metadata (1.5 kB)\n",
            "Collecting nvidia-curand-cu12==10.3.5.147 (from torch>=1.11.0->sentence-transformers)\n",
            "  Downloading nvidia_curand_cu12-10.3.5.147-py3-none-manylinux2014_x86_64.whl.metadata (1.5 kB)\n",
            "Collecting nvidia-cusolver-cu12==11.6.1.9 (from torch>=1.11.0->sentence-transformers)\n",
            "  Downloading nvidia_cusolver_cu12-11.6.1.9-py3-none-manylinux2014_x86_64.whl.metadata (1.6 kB)\n",
            "Collecting nvidia-cusparse-cu12==12.3.1.170 (from torch>=1.11.0->sentence-transformers)\n",
            "  Downloading nvidia_cusparse_cu12-12.3.1.170-py3-none-manylinux2014_x86_64.whl.metadata (1.6 kB)\n",
            "Requirement already satisfied: nvidia-cusparselt-cu12==0.6.2 in /usr/local/lib/python3.11/dist-packages (from torch>=1.11.0->sentence-transformers) (0.6.2)\n",
            "Requirement already satisfied: nvidia-nccl-cu12==2.21.5 in /usr/local/lib/python3.11/dist-packages (from torch>=1.11.0->sentence-transformers) (2.21.5)\n",
            "Requirement already satisfied: nvidia-nvtx-cu12==12.4.127 in /usr/local/lib/python3.11/dist-packages (from torch>=1.11.0->sentence-transformers) (12.4.127)\n",
            "Collecting nvidia-nvjitlink-cu12==12.4.127 (from torch>=1.11.0->sentence-transformers)\n",
            "  Downloading nvidia_nvjitlink_cu12-12.4.127-py3-none-manylinux2014_x86_64.whl.metadata (1.5 kB)\n",
            "Requirement already satisfied: triton==3.2.0 in /usr/local/lib/python3.11/dist-packages (from torch>=1.11.0->sentence-transformers) (3.2.0)\n",
            "Requirement already satisfied: mpmath<1.4,>=1.1.0 in /usr/local/lib/python3.11/dist-packages (from sympy->onnxruntime>=1.14.1->chromadb) (1.3.0)\n",
            "Requirement already satisfied: regex!=2019.12.17 in /usr/local/lib/python3.11/dist-packages (from transformers<5.0.0,>=4.41.0->sentence-transformers) (2024.11.6)\n",
            "Requirement already satisfied: safetensors>=0.4.1 in /usr/local/lib/python3.11/dist-packages (from transformers<5.0.0,>=4.41.0->sentence-transformers) (0.5.3)\n",
            "Requirement already satisfied: click>=8.0.0 in /usr/local/lib/python3.11/dist-packages (from typer>=0.9.0->chromadb) (8.1.8)\n",
            "Requirement already satisfied: shellingham>=1.3.0 in /usr/local/lib/python3.11/dist-packages (from typer>=0.9.0->chromadb) (1.5.4)\n",
            "Requirement already satisfied: httptools>=0.6.3 in /usr/local/lib/python3.11/dist-packages (from uvicorn[standard]>=0.18.3->chromadb) (0.6.4)\n",
            "Requirement already satisfied: python-dotenv>=0.13 in /usr/local/lib/python3.11/dist-packages (from uvicorn[standard]>=0.18.3->chromadb) (1.0.1)\n",
            "Requirement already satisfied: uvloop!=0.15.0,!=0.15.1,>=0.14.0 in /usr/local/lib/python3.11/dist-packages (from uvicorn[standard]>=0.18.3->chromadb) (0.21.0)\n",
            "Requirement already satisfied: watchfiles>=0.13 in /usr/local/lib/python3.11/dist-packages (from uvicorn[standard]>=0.18.3->chromadb) (1.0.4)\n",
            "Requirement already satisfied: websockets>=10.4 in /usr/local/lib/python3.11/dist-packages (from uvicorn[standard]>=0.18.3->chromadb) (14.2)\n",
            "Requirement already satisfied: joblib>=1.2.0 in /usr/local/lib/python3.11/dist-packages (from scikit-learn->sentence-transformers) (1.4.2)\n",
            "Requirement already satisfied: threadpoolctl>=3.1.0 in /usr/local/lib/python3.11/dist-packages (from scikit-learn->sentence-transformers) (3.6.0)\n",
            "Requirement already satisfied: cachetools<6.0,>=2.0.0 in /usr/local/lib/python3.11/dist-packages (from google-auth>=1.0.1->kubernetes>=28.1.0->chromadb) (5.5.2)\n",
            "Requirement already satisfied: pyasn1-modules>=0.2.1 in /usr/local/lib/python3.11/dist-packages (from google-auth>=1.0.1->kubernetes>=28.1.0->chromadb) (0.4.1)\n",
            "Requirement already satisfied: rsa<5,>=3.1.4 in /usr/local/lib/python3.11/dist-packages (from google-auth>=1.0.1->kubernetes>=28.1.0->chromadb) (4.9)\n",
            "Requirement already satisfied: zipp>=3.20 in /usr/local/lib/python3.11/dist-packages (from importlib-metadata<8.7.0,>=6.0->opentelemetry-api>=1.2.0->chromadb) (3.21.0)\n",
            "Requirement already satisfied: jsonpointer>=1.9 in /usr/local/lib/python3.11/dist-packages (from jsonpatch<2.0,>=1.33->langchain-core<1.0.0,>=0.3.41->langchain) (3.0.0)\n",
            "Requirement already satisfied: mdurl~=0.1 in /usr/local/lib/python3.11/dist-packages (from markdown-it-py>=2.2.0->rich>=10.11.0->chromadb) (0.1.2)\n",
            "Requirement already satisfied: humanfriendly>=9.1 in /usr/local/lib/python3.11/dist-packages (from coloredlogs->onnxruntime>=1.14.1->chromadb) (10.0)\n",
            "Requirement already satisfied: MarkupSafe>=2.0 in /usr/local/lib/python3.11/dist-packages (from jinja2->torch>=1.11.0->sentence-transformers) (3.0.2)\n",
            "Requirement already satisfied: pyasn1<0.7.0,>=0.4.6 in /usr/local/lib/python3.11/dist-packages (from pyasn1-modules>=0.2.1->google-auth>=1.0.1->kubernetes>=28.1.0->chromadb) (0.6.1)\n",
            "Downloading nvidia_cublas_cu12-12.4.5.8-py3-none-manylinux2014_x86_64.whl (363.4 MB)\n",
            "\u001b[2K   \u001b[90m━━━━━━━━━━━━━━━━━━━━━━━━━━━━━━━━━━━━━━━━\u001b[0m \u001b[32m363.4/363.4 MB\u001b[0m \u001b[31m1.5 MB/s\u001b[0m eta \u001b[36m0:00:00\u001b[0m\n",
            "\u001b[?25hDownloading nvidia_cuda_cupti_cu12-12.4.127-py3-none-manylinux2014_x86_64.whl (13.8 MB)\n",
            "\u001b[2K   \u001b[90m━━━━━━━━━━━━━━━━━━━━━━━━━━━━━━━━━━━━━━━━\u001b[0m \u001b[32m13.8/13.8 MB\u001b[0m \u001b[31m57.4 MB/s\u001b[0m eta \u001b[36m0:00:00\u001b[0m\n",
            "\u001b[?25hDownloading nvidia_cuda_nvrtc_cu12-12.4.127-py3-none-manylinux2014_x86_64.whl (24.6 MB)\n",
            "\u001b[2K   \u001b[90m━━━━━━━━━━━━━━━━━━━━━━━━━━━━━━━━━━━━━━━━\u001b[0m \u001b[32m24.6/24.6 MB\u001b[0m \u001b[31m32.4 MB/s\u001b[0m eta \u001b[36m0:00:00\u001b[0m\n",
            "\u001b[?25hDownloading nvidia_cuda_runtime_cu12-12.4.127-py3-none-manylinux2014_x86_64.whl (883 kB)\n",
            "\u001b[2K   \u001b[90m━━━━━━━━━━━━━━━━━━━━━━━━━━━━━━━━━━━━━━━━\u001b[0m \u001b[32m883.7/883.7 kB\u001b[0m \u001b[31m34.1 MB/s\u001b[0m eta \u001b[36m0:00:00\u001b[0m\n",
            "\u001b[?25hDownloading nvidia_cudnn_cu12-9.1.0.70-py3-none-manylinux2014_x86_64.whl (664.8 MB)\n",
            "\u001b[2K   \u001b[90m━━━━━━━━━━━━━━━━━━━━━━━━━━━━━━━━━━━━━━━━\u001b[0m \u001b[32m664.8/664.8 MB\u001b[0m \u001b[31m843.8 kB/s\u001b[0m eta \u001b[36m0:00:00\u001b[0m\n",
            "\u001b[?25hDownloading nvidia_cufft_cu12-11.2.1.3-py3-none-manylinux2014_x86_64.whl (211.5 MB)\n",
            "\u001b[2K   \u001b[90m━━━━━━━━━━━━━━━━━━━━━━━━━━━━━━━━━━━━━━━━\u001b[0m \u001b[32m211.5/211.5 MB\u001b[0m \u001b[31m5.7 MB/s\u001b[0m eta \u001b[36m0:00:00\u001b[0m\n",
            "\u001b[?25hDownloading nvidia_curand_cu12-10.3.5.147-py3-none-manylinux2014_x86_64.whl (56.3 MB)\n",
            "\u001b[2K   \u001b[90m━━━━━━━━━━━━━━━━━━━━━━━━━━━━━━━━━━━━━━━━\u001b[0m \u001b[32m56.3/56.3 MB\u001b[0m \u001b[31m11.1 MB/s\u001b[0m eta \u001b[36m0:00:00\u001b[0m\n",
            "\u001b[?25hDownloading nvidia_cusolver_cu12-11.6.1.9-py3-none-manylinux2014_x86_64.whl (127.9 MB)\n",
            "\u001b[2K   \u001b[90m━━━━━━━━━━━━━━━━━━━━━━━━━━━━━━━━━━━━━━━━\u001b[0m \u001b[32m127.9/127.9 MB\u001b[0m \u001b[31m7.1 MB/s\u001b[0m eta \u001b[36m0:00:00\u001b[0m\n",
            "\u001b[?25hDownloading nvidia_cusparse_cu12-12.3.1.170-py3-none-manylinux2014_x86_64.whl (207.5 MB)\n",
            "\u001b[2K   \u001b[90m━━━━━━━━━━━━━━━━━━━━━━━━━━━━━━━━━━━━━━━━\u001b[0m \u001b[32m207.5/207.5 MB\u001b[0m \u001b[31m4.9 MB/s\u001b[0m eta \u001b[36m0:00:00\u001b[0m\n",
            "\u001b[?25hDownloading nvidia_nvjitlink_cu12-12.4.127-py3-none-manylinux2014_x86_64.whl (21.1 MB)\n",
            "\u001b[2K   \u001b[90m━━━━━━━━━━━━━━━━━━━━━━━━━━━━━━━━━━━━━━━━\u001b[0m \u001b[32m21.1/21.1 MB\u001b[0m \u001b[31m74.8 MB/s\u001b[0m eta \u001b[36m0:00:00\u001b[0m\n",
            "\u001b[?25hInstalling collected packages: nvidia-nvjitlink-cu12, nvidia-curand-cu12, nvidia-cufft-cu12, nvidia-cuda-runtime-cu12, nvidia-cuda-nvrtc-cu12, nvidia-cuda-cupti-cu12, nvidia-cublas-cu12, nvidia-cusparse-cu12, nvidia-cudnn-cu12, nvidia-cusolver-cu12\n",
            "  Attempting uninstall: nvidia-nvjitlink-cu12\n",
            "    Found existing installation: nvidia-nvjitlink-cu12 12.5.82\n",
            "    Uninstalling nvidia-nvjitlink-cu12-12.5.82:\n",
            "      Successfully uninstalled nvidia-nvjitlink-cu12-12.5.82\n",
            "  Attempting uninstall: nvidia-curand-cu12\n",
            "    Found existing installation: nvidia-curand-cu12 10.3.6.82\n",
            "    Uninstalling nvidia-curand-cu12-10.3.6.82:\n",
            "      Successfully uninstalled nvidia-curand-cu12-10.3.6.82\n",
            "  Attempting uninstall: nvidia-cufft-cu12\n",
            "    Found existing installation: nvidia-cufft-cu12 11.2.3.61\n",
            "    Uninstalling nvidia-cufft-cu12-11.2.3.61:\n",
            "      Successfully uninstalled nvidia-cufft-cu12-11.2.3.61\n",
            "  Attempting uninstall: nvidia-cuda-runtime-cu12\n",
            "    Found existing installation: nvidia-cuda-runtime-cu12 12.5.82\n",
            "    Uninstalling nvidia-cuda-runtime-cu12-12.5.82:\n",
            "      Successfully uninstalled nvidia-cuda-runtime-cu12-12.5.82\n",
            "  Attempting uninstall: nvidia-cuda-nvrtc-cu12\n",
            "    Found existing installation: nvidia-cuda-nvrtc-cu12 12.5.82\n",
            "    Uninstalling nvidia-cuda-nvrtc-cu12-12.5.82:\n",
            "      Successfully uninstalled nvidia-cuda-nvrtc-cu12-12.5.82\n",
            "  Attempting uninstall: nvidia-cuda-cupti-cu12\n",
            "    Found existing installation: nvidia-cuda-cupti-cu12 12.5.82\n",
            "    Uninstalling nvidia-cuda-cupti-cu12-12.5.82:\n",
            "      Successfully uninstalled nvidia-cuda-cupti-cu12-12.5.82\n",
            "  Attempting uninstall: nvidia-cublas-cu12\n",
            "    Found existing installation: nvidia-cublas-cu12 12.5.3.2\n",
            "    Uninstalling nvidia-cublas-cu12-12.5.3.2:\n",
            "      Successfully uninstalled nvidia-cublas-cu12-12.5.3.2\n",
            "  Attempting uninstall: nvidia-cusparse-cu12\n",
            "    Found existing installation: nvidia-cusparse-cu12 12.5.1.3\n",
            "    Uninstalling nvidia-cusparse-cu12-12.5.1.3:\n",
            "      Successfully uninstalled nvidia-cusparse-cu12-12.5.1.3\n",
            "  Attempting uninstall: nvidia-cudnn-cu12\n",
            "    Found existing installation: nvidia-cudnn-cu12 9.3.0.75\n",
            "    Uninstalling nvidia-cudnn-cu12-9.3.0.75:\n",
            "      Successfully uninstalled nvidia-cudnn-cu12-9.3.0.75\n",
            "  Attempting uninstall: nvidia-cusolver-cu12\n",
            "    Found existing installation: nvidia-cusolver-cu12 11.6.3.83\n",
            "    Uninstalling nvidia-cusolver-cu12-11.6.3.83:\n",
            "      Successfully uninstalled nvidia-cusolver-cu12-11.6.3.83\n",
            "Successfully installed nvidia-cublas-cu12-12.4.5.8 nvidia-cuda-cupti-cu12-12.4.127 nvidia-cuda-nvrtc-cu12-12.4.127 nvidia-cuda-runtime-cu12-12.4.127 nvidia-cudnn-cu12-9.1.0.70 nvidia-cufft-cu12-11.2.1.3 nvidia-curand-cu12-10.3.5.147 nvidia-cusolver-cu12-11.6.1.9 nvidia-cusparse-cu12-12.3.1.170 nvidia-nvjitlink-cu12-12.4.127\n"
          ]
        }
      ]
    },
    {
      "cell_type": "code",
      "source": [
        "import chromadb\n",
        "from sentence_transformers import SentenceTransformer\n",
        "import os\n",
        "\n",
        "# Set path where you want to persist the ChromaDB collection\n",
        "persist_directory = \"./chromadb\"\n",
        "\n",
        "client = chromadb.PersistentClient(path=persist_directory)\n",
        "\n",
        "# Load embedding model\n",
        "model = SentenceTransformer('all-MiniLM-L6-v2')\n",
        "\n",
        "# Your documents\n",
        "documents = [\n",
        "    \"The fastest baseball game in history was played in Atlanta\",\n",
        "    \"Krishnan Nair Shantakumari Chithra (born 27 July 1963) is an Indian playback singer and Carnatic musician\",\n",
        "    \"Chithra's first Telugu song was Paadalenu Pallavaina from the dubbed version of Tamil film Sindhu Bhairavi (1985) composed by Ilaiyaraaja\",\n",
        "]\n",
        "\n",
        "# Generate embeddings\n",
        "embeddings = model.encode(documents)\n",
        "\n",
        "# Create or get collection\n",
        "collection = client.get_or_create_collection(\"my_documents\")\n",
        "\n",
        "# Add documents to collection\n",
        "collection.add(\n",
        "    ids=[str(i) for i in range(len(documents))],\n",
        "    documents=documents,\n",
        "    embeddings=embeddings.tolist()\n",
        ")\n",
        "\n",
        "print(f\"✅ Data added to ChromaDB at: {os.path.abspath(persist_directory)}\")\n"
      ],
      "metadata": {
        "colab": {
          "base_uri": "https://localhost:8080/"
        },
        "id": "ROsugGGhekgn",
        "outputId": "6bd4f2b7-9061-4fc1-a6a7-c102686db639"
      },
      "execution_count": 47,
      "outputs": [
        {
          "output_type": "stream",
          "name": "stdout",
          "text": [
            "✅ Data added to ChromaDB at: /content/chromadb\n"
          ]
        }
      ]
    },
    {
      "cell_type": "code",
      "source": [
        "for i, (doc, emb) in enumerate(zip(documents, embeddings)):\n",
        "    print(f\"\\n🔹 Document {i+1}:\\n{doc}\\n🔸 Embedding (length: {len(emb)}):\\n{emb}\")"
      ],
      "metadata": {
        "colab": {
          "base_uri": "https://localhost:8080/"
        },
        "id": "FOx7e9fjewuA",
        "outputId": "00f4be59-e73c-47fa-b0ac-fd17a44d74aa"
      },
      "execution_count": 48,
      "outputs": [
        {
          "output_type": "stream",
          "name": "stdout",
          "text": [
            "\n",
            "🔹 Document 1:\n",
            "The fastest baseball game in history was played in Atlanta\n",
            "🔸 Embedding (length: 384):\n",
            "[-2.62586609e-03  1.15590706e-01 -7.57581741e-02 -2.81515680e-02\n",
            " -4.36009057e-02  6.50784671e-02 -4.83105443e-02 -1.14323711e-02\n",
            "  3.81090716e-02  3.39418575e-02 -4.83729690e-03  2.96771014e-03\n",
            " -5.75180948e-02 -1.28759500e-02  2.79998109e-02 -1.08612321e-01\n",
            "  7.38398433e-02 -8.82181153e-03  4.77377651e-03 -6.87238201e-02\n",
            " -5.76561131e-03 -1.06046358e-02 -3.85017581e-02 -1.82645340e-02\n",
            "  8.19784477e-02 -1.05986129e-02 -5.69055714e-02  1.21766396e-01\n",
            " -5.36094941e-02 -2.66952813e-02  2.42334194e-02 -3.42617854e-02\n",
            "  9.25839245e-02  8.97351056e-02 -1.11174300e-01  5.36695123e-03\n",
            " -2.80241650e-02 -3.86729091e-02  1.54637694e-01 -1.43483775e-02\n",
            "  3.27650197e-02  4.89722937e-02  2.08173841e-02  1.70862507e-02\n",
            " -8.72188509e-02  2.14944594e-02 -3.54747884e-02  3.58579941e-02\n",
            "  1.90298930e-02 -2.06289254e-02 -9.94807668e-03  7.48808682e-02\n",
            " -2.27554496e-02 -2.07472928e-02  9.54037085e-02  6.85610399e-02\n",
            " -4.07608375e-02  2.71116085e-02 -2.32364908e-02  9.20780748e-02\n",
            "  2.22280566e-02 -5.94754294e-02  3.30123566e-02  2.63130590e-02\n",
            " -6.79043680e-02 -9.01576038e-03  2.51803137e-02 -3.22588310e-02\n",
            " -1.49437021e-02 -3.86170708e-02 -7.48035498e-03  8.60912725e-02\n",
            " -2.10570619e-02 -3.12143248e-02 -3.41210724e-03  1.86796281e-02\n",
            " -6.81406027e-03 -2.82671256e-03 -6.65833801e-02 -9.43478420e-02\n",
            "  4.49956767e-02 -8.71823877e-02 -1.56130986e-02  4.72416095e-02\n",
            " -3.53499725e-02 -2.41083652e-02  1.43816834e-03  9.12462026e-02\n",
            "  1.23523176e-02 -1.12965770e-01  3.78461257e-02  4.47029732e-02\n",
            "  3.95818353e-02 -2.30603106e-02  3.19363177e-02  1.47944288e-02\n",
            " -8.39286819e-02  1.24787102e-02 -7.25703547e-03 -5.84944617e-03\n",
            "  7.10134357e-02  2.18451442e-03  5.14216535e-02  2.39109043e-02\n",
            "  6.94247484e-02  3.40692848e-02  5.77496700e-02  2.61842031e-02\n",
            " -8.32110420e-02  4.13214155e-02  2.84440387e-02  2.00132821e-02\n",
            " -2.57374268e-05  6.91475496e-02 -1.10655233e-01  8.58138781e-03\n",
            " -1.04617467e-02 -8.99186451e-03  3.66563201e-02  2.05942690e-02\n",
            " -5.34801930e-02  1.17281796e-02  2.74187531e-02  3.44686918e-02\n",
            " -1.62319820e-02  6.61712661e-02  7.59100541e-02 -3.80500615e-33\n",
            " -4.09731641e-02 -5.11179753e-02 -3.90948616e-02 -5.82268611e-02\n",
            " -5.21233305e-02  5.90485372e-02  3.19770388e-02  3.34849842e-02\n",
            "  2.56311167e-02 -2.61961594e-02 -1.91556960e-02 -6.62712101e-03\n",
            "  2.04377510e-02 -5.12268245e-02  2.76361462e-02 -2.10636947e-02\n",
            " -1.20840810e-01 -9.38418508e-03 -8.46518483e-03  3.22057456e-02\n",
            "  2.42503956e-02 -9.87967476e-02 -3.63277607e-02 -2.25356612e-02\n",
            " -3.18471938e-02 -2.48956680e-02 -7.06055760e-02 -1.27219602e-01\n",
            "  5.42622991e-02 -4.40280065e-02  9.27385408e-03 -2.70659849e-02\n",
            " -6.14737831e-02  8.36897921e-03  9.90413129e-02 -4.32868041e-02\n",
            "  7.07410350e-02  3.28533612e-02  9.19040665e-03  1.20142857e-02\n",
            " -2.91062966e-02 -3.79857309e-02 -6.33828118e-02 -5.85612096e-02\n",
            " -5.99238612e-02  4.42025140e-02 -6.99243695e-02  8.38247687e-02\n",
            "  2.83009317e-02 -3.67408060e-02  5.35029210e-02 -2.82249954e-02\n",
            "  2.87099071e-02 -3.31917964e-02  3.64935286e-02  3.17609571e-02\n",
            " -1.11101028e-02  2.08953414e-02  2.22393908e-02  1.48402423e-01\n",
            " -5.16092293e-02  6.49868846e-02  1.96056776e-02  1.00480234e-02\n",
            " -1.14888912e-02  5.26329409e-03  3.25002614e-03  1.42662302e-02\n",
            "  9.55065433e-03  1.60394460e-02  1.07581288e-01 -1.02831803e-01\n",
            "  1.85836256e-02 -3.69464792e-02  9.04379189e-02 -1.77094918e-02\n",
            "  4.38446924e-02  2.74379738e-02 -7.37296641e-02 -6.14706650e-02\n",
            " -5.79231605e-02 -2.54436564e-02 -2.58311480e-02 -3.38871665e-02\n",
            "  3.51834223e-02 -1.40648223e-02  6.32855063e-03  5.44079617e-02\n",
            " -9.92088206e-03 -2.21380405e-02 -2.97410507e-02  6.25255927e-02\n",
            " -8.11241865e-02 -4.73995060e-02 -2.16369219e-02  1.32938015e-33\n",
            "  5.94267137e-02 -5.36120534e-02 -5.62755950e-02 -4.54384135e-03\n",
            "  1.14367738e-01  2.06250958e-02  1.01322634e-02  4.59581129e-02\n",
            " -5.49232773e-03 -1.57157183e-02  7.95019269e-02  2.60796081e-02\n",
            "  1.59670115e-02 -1.53486868e-02  2.32706834e-02 -6.53022006e-02\n",
            "  5.36307022e-02  5.87314442e-02  1.45144127e-02  1.37001434e-02\n",
            " -3.85728143e-02 -3.44665535e-02 -2.05034539e-02  2.84390412e-02\n",
            "  3.55313756e-02 -5.45723876e-03  1.52130490e-02 -3.87393981e-02\n",
            " -7.76893348e-02 -9.62263066e-03  5.94997825e-03  1.27464116e-01\n",
            "  1.76710561e-02  4.92895767e-03 -9.68598351e-02  6.53973743e-02\n",
            "  3.26215029e-02  3.66694145e-02 -4.36553219e-03 -1.01854034e-01\n",
            "  3.67632834e-03  5.84342852e-02 -1.14872027e-02  7.55530000e-02\n",
            "  3.27154770e-02  8.68551210e-02 -3.68882194e-02 -1.92719139e-03\n",
            " -8.77490044e-02  1.15194298e-01 -7.36302361e-02 -2.71719061e-02\n",
            " -3.85964848e-02  8.56448524e-03  4.49892506e-02  6.67912699e-03\n",
            " -5.24166897e-02 -9.23123732e-02 -7.18308706e-03 -6.63179606e-02\n",
            "  2.77919602e-02 -1.68665946e-02 -8.58616456e-02  3.55675034e-02\n",
            "  5.08302860e-02  4.39323969e-02  5.66219427e-02 -5.77843897e-02\n",
            "  4.68945988e-02  2.47111544e-02 -7.21412376e-02  5.27299754e-02\n",
            " -8.98038372e-02  5.92533648e-02 -1.06836967e-01  5.89123033e-02\n",
            " -1.08007039e-03  8.72428566e-02  5.01296436e-03  3.21194045e-02\n",
            " -5.63748144e-02  1.23277105e-01 -3.06345783e-02 -2.38737985e-02\n",
            " -3.28964926e-02  3.60489078e-02 -4.02348489e-02 -1.85057260e-02\n",
            "  9.92579479e-03 -4.25487533e-02  9.96265188e-03  7.10283592e-02\n",
            "  5.53017333e-02 -2.82348413e-02 -5.52720279e-02 -1.70951164e-08\n",
            "  1.84363071e-02  9.09145698e-02 -6.10225927e-03 -7.38492468e-03\n",
            "  4.91334088e-02  7.96307102e-02  9.56407283e-03  1.89384613e-02\n",
            "  3.20746079e-02 -9.34525430e-02 -1.91988703e-02 -3.56481820e-02\n",
            "  3.87202799e-02  8.07383060e-02 -4.27471772e-02 -6.03751764e-02\n",
            " -1.66847371e-02 -4.83140349e-02  2.44027097e-03  6.24826439e-02\n",
            " -2.77759489e-02  5.72756343e-02 -7.39428475e-02  1.12987142e-02\n",
            "  6.07604720e-02  7.66945332e-02  2.94005405e-03 -3.88551317e-02\n",
            "  3.06497011e-02 -6.95090443e-02 -1.31782154e-02  1.27667270e-03\n",
            "  2.02357564e-02 -8.21474567e-02  2.02455316e-02 -3.77599783e-02\n",
            "  6.49089888e-02  8.68463889e-03  4.97400053e-02 -9.68403742e-02\n",
            " -8.34951028e-02  2.63212007e-02 -5.89852780e-02 -7.99242929e-02\n",
            " -1.60048576e-03 -8.17600414e-02 -5.55638969e-03 -3.46724615e-02\n",
            " -2.34983228e-02 -7.36852176e-03 -3.36908139e-02  1.29483500e-02\n",
            " -6.38566073e-03 -1.83267295e-02  1.36466846e-02  9.82818007e-03\n",
            " -8.21594819e-02 -6.01631105e-02  9.53552499e-03 -6.24490231e-02\n",
            "  3.30481231e-02 -8.67376011e-03  1.74814072e-02  5.77615201e-02]\n",
            "\n",
            "🔹 Document 2:\n",
            "Krishnan Nair Shantakumari Chithra (born 27 July 1963) is an Indian playback singer and Carnatic musician\n",
            "🔸 Embedding (length: 384):\n",
            "[-4.14391123e-02 -1.25304535e-01 -4.33646478e-02 -5.56983389e-02\n",
            " -5.10375351e-02  1.05182134e-01  3.14996168e-02  7.98735023e-03\n",
            " -1.91016551e-02  5.22095338e-02  5.02529815e-02 -4.15562093e-02\n",
            "  1.27313007e-02  3.88827324e-02  3.07884794e-02 -2.06399541e-02\n",
            " -3.66402827e-02 -2.40781810e-02  8.06296896e-03 -1.63310673e-02\n",
            " -9.36248451e-02  7.53046721e-02  3.07203736e-02  5.75327128e-03\n",
            " -2.16943286e-02  8.74498114e-03  1.59111023e-02 -1.31616704e-02\n",
            "  2.23906878e-02  3.80756967e-02  1.10322729e-01  6.14285693e-02\n",
            " -1.16001323e-01 -2.87780352e-02 -5.96859157e-02  3.92392613e-02\n",
            " -6.40929937e-02  1.84083246e-02  5.98976873e-02 -5.98461926e-02\n",
            "  5.02542555e-02 -1.09991044e-04 -5.56268077e-03 -1.04725368e-01\n",
            "  1.12541847e-01 -8.42696652e-02 -4.67671826e-02 -2.53412817e-02\n",
            "  7.46949166e-02  3.35018989e-03 -3.36629413e-02  1.09360199e-02\n",
            "  5.83058633e-02 -6.53587328e-03 -1.69758991e-04 -8.39783177e-02\n",
            "  4.62114960e-02  1.07766921e-02  2.49165948e-02  5.64349554e-02\n",
            " -1.36534767e-02  8.12898949e-03  1.85997561e-02 -5.73700555e-02\n",
            "  1.37013160e-02 -2.94965152e-02 -2.33982150e-02 -3.77359390e-02\n",
            "  1.23925824e-02  5.27644046e-02  2.08542794e-02  2.94124708e-02\n",
            " -6.58150762e-02  4.66772430e-02 -1.34097142e-02 -2.57276446e-02\n",
            "  3.80433463e-02  5.80354519e-02 -7.09054098e-02  2.37297453e-02\n",
            " -2.86335126e-02 -9.86754969e-02  8.20587948e-02  1.93043496e-03\n",
            " -6.98730275e-02 -3.41224261e-02  2.68744770e-02  1.08532570e-02\n",
            " -1.67674571e-02  3.97989340e-03 -9.97211784e-03  1.09091498e-01\n",
            "  5.91704771e-02 -4.71986867e-02  1.63924433e-02  2.96203550e-02\n",
            "  4.55622934e-02 -1.11773619e-02  2.05236650e-03  4.25149724e-02\n",
            " -5.24283797e-02 -6.65756986e-02 -3.04060914e-02  2.66070548e-03\n",
            " -4.00615819e-02  5.80863953e-02  5.45850303e-03 -4.21172287e-03\n",
            "  2.59683616e-02 -2.90251803e-02 -4.93865134e-03  2.30472982e-02\n",
            " -7.41083249e-02  7.25064129e-02 -3.31178820e-03  1.59309164e-03\n",
            " -3.56075056e-02  1.95204597e-02 -2.72843763e-02  4.31109453e-03\n",
            " -2.98905093e-02  5.57215102e-02  4.03875951e-03  2.96750944e-02\n",
            "  4.58387146e-03 -4.51472178e-02 -8.08776766e-02  2.69899950e-33\n",
            "  6.42375946e-02 -7.43056759e-02  6.03651367e-02 -9.67713073e-02\n",
            "  4.04161997e-02 -8.86515807e-03 -6.60247207e-02 -2.69887429e-02\n",
            "  6.44228458e-02 -8.30497965e-03 -2.60586478e-02 -4.52673025e-02\n",
            "  9.37580969e-03 -5.97498603e-02 -1.35031007e-02  3.22422162e-02\n",
            " -3.63588817e-02 -1.28434459e-02  3.85256968e-02 -2.38626301e-02\n",
            "  5.15020676e-02 -1.34487655e-02  7.85970539e-02  1.10212434e-03\n",
            "  5.25355898e-02 -1.24780638e-02  1.10910319e-01 -3.34600732e-02\n",
            " -2.77226064e-02 -4.22113435e-03  1.82855446e-02 -7.60288388e-02\n",
            " -9.07224324e-03 -7.80706182e-02  4.85472905e-04 -2.16894015e-03\n",
            "  1.52041472e-03 -6.10901555e-03 -4.95911986e-02  3.06939287e-03\n",
            "  7.80337900e-02 -4.94165160e-02 -4.28703874e-02  5.51437251e-02\n",
            " -1.07829951e-01  5.87080196e-02  3.98211107e-02  2.29714122e-02\n",
            "  2.19140518e-02  3.63854947e-03 -7.67540485e-02 -3.31172086e-02\n",
            "  1.13684461e-02 -3.03396638e-02  1.90757178e-02 -4.44586873e-02\n",
            "  5.58818951e-02 -7.95468837e-02  8.41832832e-02 -6.68764561e-02\n",
            " -1.62019022e-02 -9.50510129e-02 -3.36699076e-02 -1.00850895e-01\n",
            "  1.02362186e-02 -5.81932999e-02  1.21706583e-01 -4.99387383e-02\n",
            "  9.94151533e-02 -1.63576066e-01 -1.70360766e-02 -6.31066188e-02\n",
            "  3.05023529e-02  1.74319732e-03  1.26982732e-02 -2.74143126e-02\n",
            " -6.04501888e-02  1.23802088e-02  2.42804177e-02  8.24438035e-02\n",
            "  7.27360230e-03  1.18593231e-01 -1.22500258e-02 -3.11355828e-03\n",
            "  5.28755076e-02  2.88125686e-02 -7.56454617e-02 -5.94223775e-02\n",
            " -1.92144476e-02 -1.51513563e-02  3.07368934e-02  8.57979152e-03\n",
            "  2.45606657e-02 -3.85489352e-02 -2.67221238e-02 -3.65291922e-33\n",
            " -5.51959276e-02  8.39727931e-03 -3.26503366e-02  8.86998922e-02\n",
            "  8.28925818e-02 -2.21867245e-02  1.21381534e-02  1.44605145e-01\n",
            "  4.94530834e-02 -5.61639806e-03  6.88166618e-02  3.00128143e-02\n",
            "  4.32510450e-02 -7.09281340e-02 -6.32216185e-02  7.97109306e-02\n",
            " -2.23264638e-02  1.09367311e-01 -8.58557411e-03 -4.61085476e-02\n",
            " -2.77792849e-02 -1.99911147e-02  3.96751240e-02 -4.02693860e-02\n",
            " -2.48856917e-02  1.87592544e-02  1.95605867e-02  7.19198734e-02\n",
            " -4.70096357e-02  5.16190901e-02  1.35482876e-02 -4.73271236e-02\n",
            " -7.88062587e-02 -9.93851721e-02 -1.00864447e-03  1.03931269e-03\n",
            "  1.51991635e-03  2.86852592e-03  1.94008742e-03  5.79099655e-02\n",
            " -2.56919879e-02  3.99405733e-02  2.96907648e-02  2.47006584e-02\n",
            " -4.91994666e-03 -4.17482033e-02  2.68421113e-03  6.41489848e-02\n",
            " -6.59927651e-02 -6.99439028e-04  9.02991220e-02 -3.01741734e-02\n",
            "  1.26947895e-01  3.25317757e-04  9.31773782e-02  2.65087727e-02\n",
            "  7.20033348e-02  1.79014262e-02  2.02559307e-02  6.71154782e-02\n",
            "  6.88467398e-02 -4.44335155e-02  7.26725087e-02 -1.81877315e-02\n",
            " -5.89015372e-02  1.02563433e-01  6.23292699e-02 -3.61059327e-03\n",
            "  3.68575864e-02 -9.04471800e-02 -6.43633818e-03 -6.77553639e-02\n",
            "  1.84759255e-02  1.66195650e-02 -6.89961463e-02  1.83782261e-02\n",
            " -7.99945965e-02 -1.64496470e-02  4.76979762e-02 -5.32718711e-02\n",
            "  2.72609200e-02 -2.48745410e-03 -9.00818333e-02 -7.93168470e-02\n",
            "  1.50827575e-03  4.60627675e-02  2.58300751e-02 -1.15225874e-02\n",
            "  2.38574818e-02  5.99055737e-03  4.97897305e-02  7.42233470e-02\n",
            "  2.29472667e-02  1.64474361e-02  3.84848900e-02 -2.78765793e-08\n",
            " -8.43296647e-02 -2.25318372e-02 -2.04189997e-02 -4.17883545e-02\n",
            "  7.44302347e-02  6.87399060e-02  2.66987644e-02 -2.49041971e-02\n",
            "  9.84010193e-03 -1.26840929e-02  1.05128542e-01 -6.58795610e-02\n",
            "  4.21165526e-02  8.15112144e-03 -4.01425594e-03 -4.64700209e-03\n",
            "  6.26389906e-02  1.42000690e-01 -5.45530207e-03 -1.44451167e-02\n",
            "  3.56854536e-02  3.26539800e-02  1.68440510e-02 -8.67035165e-02\n",
            "  4.14870493e-02 -4.96089496e-02 -7.03558177e-02  8.82171001e-03\n",
            " -3.57271358e-02 -5.87795638e-02 -4.35478128e-02  1.04343839e-01\n",
            "  1.38136083e-02 -7.74217546e-02  1.09702712e-02 -3.96027863e-02\n",
            "  2.07023881e-02 -5.12691587e-02 -4.57169153e-02 -1.79931410e-02\n",
            " -5.97544201e-02  9.15341973e-02  4.51460667e-02  3.66885075e-03\n",
            " -5.25886863e-02 -4.27134968e-02  8.31792057e-02  2.24933755e-02\n",
            " -5.42779937e-02 -4.02864814e-02  2.16431860e-02 -6.54045399e-03\n",
            "  2.38437317e-02 -4.25318480e-02 -4.74555194e-02  2.93653738e-02\n",
            " -5.61320707e-02 -7.96765089e-03  1.64789408e-02  7.45589100e-03\n",
            " -2.66370419e-02 -7.98821077e-02  1.45133296e-02 -5.71109280e-02]\n",
            "\n",
            "🔹 Document 3:\n",
            "Chithra's first Telugu song was Paadalenu Pallavaina from the dubbed version of Tamil film Sindhu Bhairavi (1985) composed by Ilaiyaraaja\n",
            "🔸 Embedding (length: 384):\n",
            "[-8.71274844e-02 -4.41176482e-02 -5.84693141e-02 -2.12948751e-02\n",
            " -1.18951388e-01  8.22676122e-02 -1.37743133e-03 -1.35673070e-02\n",
            " -6.01020306e-02 -2.66084392e-02  3.34976763e-02 -2.15294641e-02\n",
            "  4.42284942e-02 -1.50681855e-02 -3.27794626e-02  5.85361198e-02\n",
            "  7.54826609e-03 -1.39809465e-02  2.34414805e-02 -3.25561240e-02\n",
            " -6.86208135e-04  3.45950015e-02  3.94199304e-02  1.35529917e-02\n",
            "  2.63247807e-02  3.21006328e-02 -2.21530404e-02 -5.26828412e-03\n",
            "  3.90413553e-02  5.42949438e-02  6.79702684e-02  4.75629158e-02\n",
            "  7.14362459e-03 -3.96564938e-02 -2.12592576e-02 -1.72101315e-02\n",
            " -8.32417607e-02  1.20574255e-02  2.67583206e-02  5.35870763e-03\n",
            " -2.63418891e-02  4.73928563e-02 -1.19533010e-01 -7.30534121e-02\n",
            "  3.27585675e-02 -1.49677079e-02 -5.22539094e-02  1.63775738e-02\n",
            "  5.82471229e-02  3.39776836e-02 -6.01954758e-02  1.21656768e-01\n",
            " -4.74589653e-02 -1.97563041e-02 -4.33957316e-02 -1.34848982e-01\n",
            "  1.01910695e-01 -5.02785388e-03  2.00347565e-02  2.51459461e-02\n",
            " -3.60374041e-02 -2.00395994e-02  5.73735088e-02 -2.44608540e-02\n",
            "  2.19800919e-02 -4.25362922e-02 -8.82072188e-03 -3.51566374e-02\n",
            "  1.56523231e-02 -4.07762406e-03 -1.95884667e-02  1.37126790e-02\n",
            " -7.12340027e-02  5.00919968e-02 -8.61463100e-02 -8.86612479e-03\n",
            " -4.49564531e-02 -7.68166259e-02 -8.05254728e-02 -3.13347168e-02\n",
            "  1.20217376e-03 -7.83759952e-02  4.08229465e-03  2.47178506e-02\n",
            " -4.68100756e-02  2.86608171e-02  3.46095040e-02  1.16588473e-02\n",
            " -3.02760825e-02 -1.87830552e-02  1.20757381e-02  3.82513553e-02\n",
            "  8.03906936e-04  2.40166802e-02  2.39008870e-02 -2.64900979e-02\n",
            " -4.41700034e-02 -5.55571020e-02  8.95432532e-02 -7.99051672e-03\n",
            " -1.39027496e-03 -7.16705248e-02 -6.60699606e-02  4.40815929e-03\n",
            " -9.37088653e-02 -6.45807479e-03  1.52078047e-01 -3.95863019e-02\n",
            "  6.33596033e-02 -1.43787675e-02 -2.34863013e-02  1.35328816e-02\n",
            " -2.70610992e-02 -3.41584384e-02 -8.43618438e-02  6.15931936e-02\n",
            "  3.23722363e-02 -2.50968058e-02 -2.66166441e-02  6.14631549e-02\n",
            "  3.01927119e-03 -8.51526782e-02 -4.45691086e-02  1.77171249e-02\n",
            " -3.65098491e-02 -1.16981044e-01  5.55974664e-03  2.81726984e-33\n",
            "  7.17821047e-02 -4.72140871e-02 -1.35856471e-03 -6.16954714e-02\n",
            "  3.44681665e-02  3.63202952e-02 -2.09014639e-02 -7.47145638e-02\n",
            " -2.89760325e-02  6.62618270e-03 -3.92457359e-02 -6.60394654e-02\n",
            "  3.35806329e-03 -8.46850500e-02 -1.94884241e-02 -4.52727042e-02\n",
            " -6.55419677e-02  2.44902186e-02  6.95694983e-02  5.96226612e-03\n",
            "  1.87252220e-02  8.61262083e-02  5.37095629e-02 -2.98772566e-02\n",
            "  4.33072932e-02 -3.79900273e-04  4.11456637e-02 -9.59043205e-03\n",
            "  1.87702198e-02 -1.28362011e-02  7.29840100e-02 -1.46673843e-02\n",
            " -7.94170722e-02 -6.54380023e-02 -4.79476377e-02 -4.84371185e-02\n",
            " -1.02714971e-01 -2.81551853e-02 -6.02039993e-02  6.68664426e-02\n",
            "  3.17629911e-02  1.73642412e-02 -1.99798699e-02  7.33500905e-03\n",
            " -6.02195039e-02  2.55228691e-02 -3.19066569e-02  5.46334237e-02\n",
            " -3.44385989e-02 -4.17525843e-02 -3.70052606e-02  3.46536711e-02\n",
            "  4.19260301e-02  4.45450433e-02 -2.50847433e-02 -5.00015132e-02\n",
            "  1.04932360e-01 -5.35776876e-02  1.05480850e-01  4.10641870e-03\n",
            "  1.90380067e-02 -2.60887519e-02  1.02170706e-02 -1.51413441e-01\n",
            "  5.26861958e-02 -3.05299256e-02  8.37154239e-02  4.33607250e-02\n",
            "  5.97353019e-02 -1.00974232e-01 -1.83632374e-02 -3.22937369e-02\n",
            " -9.99015849e-03  3.59598622e-02  5.84810860e-02  8.74230824e-03\n",
            " -1.78247725e-03  3.19192335e-02  3.02266027e-03 -3.04000098e-02\n",
            "  1.75951910e-03  1.02312155e-01  8.16846266e-02  2.77715903e-02\n",
            "  1.96014103e-02  1.70900542e-02 -4.37269881e-02 -4.90952060e-02\n",
            " -8.29471573e-02 -2.31003277e-02  4.66560610e-02  2.48083510e-02\n",
            "  3.43979858e-02  1.37234051e-02 -1.30077703e-02 -3.94445395e-33\n",
            "  1.92902051e-04  6.69385679e-03  1.91717073e-02  7.91732105e-04\n",
            "  2.65159737e-02  1.78394411e-02  1.18916892e-02  4.22375798e-02\n",
            "  4.00007516e-02  1.12796202e-01  9.63948444e-02 -4.29009646e-02\n",
            "  9.14607808e-05  2.59884745e-02 -3.32766846e-02  7.55394548e-02\n",
            "  6.08013943e-02  8.66587907e-02 -1.05397757e-02  1.13206487e-02\n",
            " -1.15045927e-01 -3.27226520e-02  6.20053969e-02 -1.83906853e-02\n",
            "  4.61562257e-03  1.67123824e-02  7.48033002e-02 -2.08402406e-02\n",
            "  3.24199349e-02  2.42575370e-02  1.59751102e-02 -1.68994274e-02\n",
            " -1.37350276e-01 -7.87756033e-03 -1.54123856e-02  1.25137381e-02\n",
            "  1.81839187e-02 -3.38576213e-02  2.28204187e-02  1.03380054e-01\n",
            " -4.99598123e-02  7.64761865e-02  4.16543223e-02 -2.02643238e-02\n",
            "  2.03749109e-02 -7.65453503e-02  2.99589485e-02  4.34695818e-02\n",
            " -1.14473589e-01 -6.33974210e-04  8.13634023e-02  1.25488658e-02\n",
            "  9.96817276e-02 -5.04310094e-02  1.30425677e-01 -1.99792255e-02\n",
            " -1.30543485e-02  8.94925557e-03 -3.07988841e-03  9.70174966e-04\n",
            "  4.68563698e-02 -2.75342800e-02  3.19323479e-03 -1.60426833e-02\n",
            " -8.90490860e-02  1.27217129e-01  8.11754689e-02 -8.27716012e-03\n",
            "  4.56037708e-02 -4.79352251e-02 -6.41961619e-02  3.55504407e-03\n",
            " -2.96108574e-02  3.44871432e-02 -3.91975604e-02  9.53331664e-02\n",
            " -2.02640966e-02 -5.44042652e-03  3.87582323e-03 -7.12332428e-02\n",
            "  6.10853061e-02 -6.10647500e-02 -4.49299440e-02 -9.38312709e-02\n",
            "  6.03956282e-02 -3.13129313e-02  1.86017919e-02  2.42440160e-02\n",
            "  9.01708379e-03  3.55361179e-02 -2.66821943e-02  7.82556459e-02\n",
            "  9.65363458e-02  3.01722828e-02  5.00318408e-02 -2.55280774e-08\n",
            " -3.58387716e-02 -2.18818896e-03 -1.30216470e-02 -7.95700937e-04\n",
            "  1.24539442e-01  5.01550036e-03 -2.63238456e-02 -1.23875059e-01\n",
            "  2.12852079e-02 -5.80137968e-02  5.07120565e-02 -3.34901400e-02\n",
            "  1.76644158e-02 -1.77401360e-02 -2.88681276e-02  6.27553314e-02\n",
            "  3.12863253e-02  1.79612562e-02  5.28509282e-02  5.71686402e-02\n",
            "  3.18846442e-02  3.88476178e-02 -4.67147343e-02 -1.07066840e-01\n",
            " -4.62100767e-02 -1.61453709e-03  5.24720736e-03 -8.47496390e-02\n",
            "  6.78410754e-03 -5.07642254e-02  6.22440651e-02  9.92564261e-02\n",
            " -1.24098444e-02 -1.36668161e-01  3.19192484e-02 -1.77140180e-02\n",
            "  5.50993122e-02 -4.57047112e-03 -4.89842193e-03 -5.62204085e-02\n",
            "  2.45128460e-02  1.09420039e-01  2.25143824e-02 -1.50259519e-02\n",
            "  4.23557200e-02  4.85012159e-02 -5.94052114e-03 -1.16782030e-02\n",
            " -4.02253270e-02 -4.68808897e-02  3.37609276e-02  1.23626972e-02\n",
            " -5.48599754e-03 -1.01418281e-03  1.49019817e-02  3.72971259e-02\n",
            " -3.57799307e-02 -3.23837511e-02  3.60986739e-02 -3.70963663e-02\n",
            "  9.32368916e-03  1.69921189e-03  6.13984391e-02  6.91642705e-03]\n"
          ]
        }
      ]
    },
    {
      "cell_type": "code",
      "source": [
        "# Step 7: Query the collection\n",
        "query = \"What is sport in USA?\"\n",
        "query_embedding = model.encode(query).tolist()\n",
        "\n",
        "# Perform similarity search with distances\n",
        "results = collection.query(\n",
        "    query_embeddings=[query_embedding],\n",
        "    n_results=1,\n",
        "    include=[\"documents\", \"distances\"]\n",
        ")\n",
        "\n",
        "# Print the results with distances\n",
        "print(f\"{query}\\n\")\n",
        "for i, (doc, dist) in enumerate(zip(results['documents'][0], results['distances'][0])):\n",
        "    print(f\"Result {i+1}:\")\n",
        "    print(f\"Document: {doc}\")\n",
        "    print(f\"Distance: {dist:.4f}\\n\")\n"
      ],
      "metadata": {
        "colab": {
          "base_uri": "https://localhost:8080/"
        },
        "id": "gxiPXpOjfnH7",
        "outputId": "658c7229-cae8-43d7-d81f-595bf406e9bb"
      },
      "execution_count": 59,
      "outputs": [
        {
          "output_type": "stream",
          "name": "stdout",
          "text": [
            "What is sport in USA?\n",
            "\n",
            "Result 1:\n",
            "Document: The fastest baseball game in history was played in Atlanta\n",
            "Distance: 1.4884\n",
            "\n"
          ]
        }
      ]
    },
    {
      "cell_type": "code",
      "source": [
        "# New document to add\n",
        "new_doc_1 = \"Chithra has won six National Film Awards and is one of the most awarded playback singers in India.\"\n",
        "new_doc_2 = \"Chithra, along with a Kerala-based satellite channel, Asianet Cable Vision (ACV), jointly launched a fundraising organisation, Sneha Nandana, to raise funds for the welfare of retired musicians who have lost their careers due to changes in the music industry\"\n",
        "\n",
        "# Generate embedding for the new doc\n",
        "new_embedding = model.encode(new_doc_1).tolist()\n",
        "new_embedding_2 = model.encode(new_doc_2).tolist()\n",
        "\n",
        "# Add it to the existing ChromaDB collection\n",
        "collection.add(\n",
        "    ids=[\"3\"],\n",
        "    documents=[new_doc_1],\n",
        "    embeddings=[new_embedding]\n",
        ")\n",
        "\n",
        "collection.add(\n",
        "    ids=[\"4\"],\n",
        "    documents=[new_doc_2],\n",
        "    embeddings=[new_embedding]\n",
        ")\n",
        "\n",
        "print(\"✅ New document added to collection.\")\n"
      ],
      "metadata": {
        "colab": {
          "base_uri": "https://localhost:8080/"
        },
        "id": "9bun05kYf0Wu",
        "outputId": "a8148a2a-22a9-4117-b41d-dc0e09ed8ac2"
      },
      "execution_count": 60,
      "outputs": [
        {
          "output_type": "stream",
          "name": "stdout",
          "text": [
            "✅ New document added to collection.\n"
          ]
        }
      ]
    },
    {
      "cell_type": "code",
      "source": [
        "# Step 7: Query the collection\n",
        "query = \"What awards chitra won?\"\n",
        "query_embedding = model.encode(query).tolist()\n",
        "\n",
        "# Perform similarity search with distances\n",
        "results = collection.query(\n",
        "    query_embeddings=[query_embedding],\n",
        "    n_results=4,\n",
        "    include=[\"documents\", \"distances\"]\n",
        ")\n",
        "\n",
        "# Print the results with distances\n",
        "print(f\"{query}\\n\")\n",
        "for i, (doc, dist) in enumerate(zip(results['documents'][0], results['distances'][0])):\n",
        "    print(f\"Result {i+1}:\")\n",
        "    print(f\"Document: {doc}\")\n",
        "    print(f\"Distance: {dist:.4f}\\n\")\n"
      ],
      "metadata": {
        "colab": {
          "base_uri": "https://localhost:8080/"
        },
        "id": "nIClhoSuh0Xe",
        "outputId": "94345bf2-f91b-4cfb-9a1e-ce7904e73b58"
      },
      "execution_count": 65,
      "outputs": [
        {
          "output_type": "stream",
          "name": "stdout",
          "text": [
            "What awards chitra won?\n",
            "\n",
            "Result 1:\n",
            "Document: Chithra has won six National Film Awards and is one of the most awarded playback singers in India.\n",
            "Distance: 0.6236\n",
            "\n",
            "Result 2:\n",
            "Document: Chithra, along with a Kerala-based satellite channel, Asianet Cable Vision (ACV), jointly launched a fundraising organisation, Sneha Nandana, to raise funds for the welfare of retired musicians who have lost their careers due to changes in the music industry\n",
            "Distance: 0.6236\n",
            "\n",
            "Result 3:\n",
            "Document: Krishnan Nair Shantakumari Chithra (born 27 July 1963) is an Indian playback singer and Carnatic musician\n",
            "Distance: 1.3819\n",
            "\n",
            "Result 4:\n",
            "Document: Chithra's first Telugu song was Paadalenu Pallavaina from the dubbed version of Tamil film Sindhu Bhairavi (1985) composed by Ilaiyaraaja\n",
            "Distance: 1.4016\n",
            "\n"
          ]
        }
      ]
    },
    {
      "cell_type": "code",
      "source": [
        "collection.delete(ids=[\"4\"])  # Delete document with ID \"0\"\n",
        "print(\"Data deleted successfully! ❌\")"
      ],
      "metadata": {
        "colab": {
          "base_uri": "https://localhost:8080/"
        },
        "id": "wADY_TiTh8oY",
        "outputId": "5cf8d2d0-9548-4674-da55-9aadc0b83a36"
      },
      "execution_count": 66,
      "outputs": [
        {
          "output_type": "stream",
          "name": "stdout",
          "text": [
            "Data deleted successfully! ❌\n"
          ]
        }
      ]
    },
    {
      "cell_type": "code",
      "source": [
        "# Step 7: Query the collection\n",
        "query = \"What awards chitra won?\"\n",
        "query_embedding = model.encode(query).tolist()\n",
        "\n",
        "# Perform similarity search with distances\n",
        "results = collection.query(\n",
        "    query_embeddings=[query_embedding],\n",
        "    n_results=2,\n",
        "    include=[\"documents\", \"distances\"]\n",
        ")\n",
        "\n",
        "# Print the results with distances\n",
        "print(f\"{query}\\n\")\n",
        "for i, (doc, dist) in enumerate(zip(results['documents'][0], results['distances'][0])):\n",
        "    print(f\"Result {i+1}:\")\n",
        "    print(f\"Document: {doc}\")\n",
        "    print(f\"Distance: {dist:.4f}\\n\")\n"
      ],
      "metadata": {
        "colab": {
          "base_uri": "https://localhost:8080/"
        },
        "id": "3DgqTYiqjBxl",
        "outputId": "92802ba4-ad69-4b6c-96ca-2eb4931c9b76"
      },
      "execution_count": 67,
      "outputs": [
        {
          "output_type": "stream",
          "name": "stdout",
          "text": [
            "What awards chitra won?\n",
            "\n",
            "Result 1:\n",
            "Document: Chithra has won six National Film Awards and is one of the most awarded playback singers in India.\n",
            "Distance: 0.6236\n",
            "\n",
            "Result 2:\n",
            "Document: Krishnan Nair Shantakumari Chithra (born 27 July 1963) is an Indian playback singer and Carnatic musician\n",
            "Distance: 1.3819\n",
            "\n"
          ]
        }
      ]
    },
    {
      "cell_type": "code",
      "source": [],
      "metadata": {
        "id": "8TWiVwIEjFBG"
      },
      "execution_count": null,
      "outputs": []
    },
    {
      "cell_type": "markdown",
      "source": [
        "**RAG**"
      ],
      "metadata": {
        "id": "irkqRio30CjN"
      }
    },
    {
      "cell_type": "code",
      "source": [
        "!pip install langchain_community langchain-openai langchainhub chromadb langchain"
      ],
      "metadata": {
        "colab": {
          "base_uri": "https://localhost:8080/"
        },
        "id": "emf5-9hq0EqF",
        "outputId": "bfdd82e8-9f17-4d5f-957d-1dc5b4823cbc"
      },
      "execution_count": 68,
      "outputs": [
        {
          "output_type": "stream",
          "name": "stdout",
          "text": [
            "Collecting langchain_community\n",
            "  Downloading langchain_community-0.3.20-py3-none-any.whl.metadata (2.4 kB)\n",
            "Collecting langchain-openai\n",
            "  Downloading langchain_openai-0.3.9-py3-none-any.whl.metadata (2.3 kB)\n",
            "Collecting langchainhub\n",
            "  Downloading langchainhub-0.1.21-py3-none-any.whl.metadata (659 bytes)\n",
            "Requirement already satisfied: chromadb in /usr/local/lib/python3.11/dist-packages (0.6.3)\n",
            "Requirement already satisfied: langchain in /usr/local/lib/python3.11/dist-packages (0.3.20)\n",
            "Requirement already satisfied: langchain-core<1.0.0,>=0.3.45 in /usr/local/lib/python3.11/dist-packages (from langchain_community) (0.3.47)\n",
            "Collecting langchain\n",
            "  Downloading langchain-0.3.21-py3-none-any.whl.metadata (7.8 kB)\n",
            "Requirement already satisfied: SQLAlchemy<3,>=1.4 in /usr/local/lib/python3.11/dist-packages (from langchain_community) (2.0.39)\n",
            "Requirement already satisfied: requests<3,>=2 in /usr/local/lib/python3.11/dist-packages (from langchain_community) (2.32.3)\n",
            "Requirement already satisfied: PyYAML>=5.3 in /usr/local/lib/python3.11/dist-packages (from langchain_community) (6.0.2)\n",
            "Requirement already satisfied: aiohttp<4.0.0,>=3.8.3 in /usr/local/lib/python3.11/dist-packages (from langchain_community) (3.11.14)\n",
            "Requirement already satisfied: tenacity!=8.4.0,<10,>=8.1.0 in /usr/local/lib/python3.11/dist-packages (from langchain_community) (9.0.0)\n",
            "Collecting dataclasses-json<0.7,>=0.5.7 (from langchain_community)\n",
            "  Downloading dataclasses_json-0.6.7-py3-none-any.whl.metadata (25 kB)\n",
            "Collecting pydantic-settings<3.0.0,>=2.4.0 (from langchain_community)\n",
            "  Downloading pydantic_settings-2.8.1-py3-none-any.whl.metadata (3.5 kB)\n",
            "Requirement already satisfied: langsmith<0.4,>=0.1.125 in /usr/local/lib/python3.11/dist-packages (from langchain_community) (0.3.15)\n",
            "Collecting httpx-sse<1.0.0,>=0.4.0 (from langchain_community)\n",
            "  Downloading httpx_sse-0.4.0-py3-none-any.whl.metadata (9.0 kB)\n",
            "Requirement already satisfied: numpy<3,>=1.26.2 in /usr/local/lib/python3.11/dist-packages (from langchain_community) (2.0.2)\n",
            "Requirement already satisfied: openai<2.0.0,>=1.66.3 in /usr/local/lib/python3.11/dist-packages (from langchain-openai) (1.66.3)\n",
            "Collecting tiktoken<1,>=0.7 (from langchain-openai)\n",
            "  Downloading tiktoken-0.9.0-cp311-cp311-manylinux_2_17_x86_64.manylinux2014_x86_64.whl.metadata (6.7 kB)\n",
            "Requirement already satisfied: packaging<25,>=23.2 in /usr/local/lib/python3.11/dist-packages (from langchainhub) (24.2)\n",
            "Collecting types-requests<3.0.0.0,>=2.31.0.2 (from langchainhub)\n",
            "  Downloading types_requests-2.32.0.20250306-py3-none-any.whl.metadata (2.3 kB)\n",
            "Requirement already satisfied: build>=1.0.3 in /usr/local/lib/python3.11/dist-packages (from chromadb) (1.2.2.post1)\n",
            "Requirement already satisfied: pydantic>=1.9 in /usr/local/lib/python3.11/dist-packages (from chromadb) (2.10.6)\n",
            "Requirement already satisfied: chroma-hnswlib==0.7.6 in /usr/local/lib/python3.11/dist-packages (from chromadb) (0.7.6)\n",
            "Requirement already satisfied: fastapi>=0.95.2 in /usr/local/lib/python3.11/dist-packages (from chromadb) (0.115.11)\n",
            "Requirement already satisfied: uvicorn>=0.18.3 in /usr/local/lib/python3.11/dist-packages (from uvicorn[standard]>=0.18.3->chromadb) (0.34.0)\n",
            "Requirement already satisfied: posthog>=2.4.0 in /usr/local/lib/python3.11/dist-packages (from chromadb) (3.21.0)\n",
            "Requirement already satisfied: typing_extensions>=4.5.0 in /usr/local/lib/python3.11/dist-packages (from chromadb) (4.12.2)\n",
            "Requirement already satisfied: onnxruntime>=1.14.1 in /usr/local/lib/python3.11/dist-packages (from chromadb) (1.21.0)\n",
            "Requirement already satisfied: opentelemetry-api>=1.2.0 in /usr/local/lib/python3.11/dist-packages (from chromadb) (1.31.1)\n",
            "Requirement already satisfied: opentelemetry-exporter-otlp-proto-grpc>=1.2.0 in /usr/local/lib/python3.11/dist-packages (from chromadb) (1.31.1)\n",
            "Requirement already satisfied: opentelemetry-instrumentation-fastapi>=0.41b0 in /usr/local/lib/python3.11/dist-packages (from chromadb) (0.52b1)\n",
            "Requirement already satisfied: opentelemetry-sdk>=1.2.0 in /usr/local/lib/python3.11/dist-packages (from chromadb) (1.31.1)\n",
            "Requirement already satisfied: tokenizers>=0.13.2 in /usr/local/lib/python3.11/dist-packages (from chromadb) (0.21.1)\n",
            "Requirement already satisfied: pypika>=0.48.9 in /usr/local/lib/python3.11/dist-packages (from chromadb) (0.48.9)\n",
            "Requirement already satisfied: tqdm>=4.65.0 in /usr/local/lib/python3.11/dist-packages (from chromadb) (4.67.1)\n",
            "Requirement already satisfied: overrides>=7.3.1 in /usr/local/lib/python3.11/dist-packages (from chromadb) (7.7.0)\n",
            "Requirement already satisfied: importlib-resources in /usr/local/lib/python3.11/dist-packages (from chromadb) (6.5.2)\n",
            "Requirement already satisfied: grpcio>=1.58.0 in /usr/local/lib/python3.11/dist-packages (from chromadb) (1.71.0)\n",
            "Requirement already satisfied: bcrypt>=4.0.1 in /usr/local/lib/python3.11/dist-packages (from chromadb) (4.3.0)\n",
            "Requirement already satisfied: typer>=0.9.0 in /usr/local/lib/python3.11/dist-packages (from chromadb) (0.15.2)\n",
            "Requirement already satisfied: kubernetes>=28.1.0 in /usr/local/lib/python3.11/dist-packages (from chromadb) (32.0.1)\n",
            "Requirement already satisfied: mmh3>=4.0.1 in /usr/local/lib/python3.11/dist-packages (from chromadb) (5.1.0)\n",
            "Requirement already satisfied: orjson>=3.9.12 in /usr/local/lib/python3.11/dist-packages (from chromadb) (3.10.15)\n",
            "Requirement already satisfied: httpx>=0.27.0 in /usr/local/lib/python3.11/dist-packages (from chromadb) (0.28.1)\n",
            "Requirement already satisfied: rich>=10.11.0 in /usr/local/lib/python3.11/dist-packages (from chromadb) (13.9.4)\n",
            "Collecting langchain-text-splitters<1.0.0,>=0.3.7 (from langchain)\n",
            "  Downloading langchain_text_splitters-0.3.7-py3-none-any.whl.metadata (1.9 kB)\n",
            "Requirement already satisfied: aiohappyeyeballs>=2.3.0 in /usr/local/lib/python3.11/dist-packages (from aiohttp<4.0.0,>=3.8.3->langchain_community) (2.6.1)\n",
            "Requirement already satisfied: aiosignal>=1.1.2 in /usr/local/lib/python3.11/dist-packages (from aiohttp<4.0.0,>=3.8.3->langchain_community) (1.3.2)\n",
            "Requirement already satisfied: attrs>=17.3.0 in /usr/local/lib/python3.11/dist-packages (from aiohttp<4.0.0,>=3.8.3->langchain_community) (25.3.0)\n",
            "Requirement already satisfied: frozenlist>=1.1.1 in /usr/local/lib/python3.11/dist-packages (from aiohttp<4.0.0,>=3.8.3->langchain_community) (1.5.0)\n",
            "Requirement already satisfied: multidict<7.0,>=4.5 in /usr/local/lib/python3.11/dist-packages (from aiohttp<4.0.0,>=3.8.3->langchain_community) (6.2.0)\n",
            "Requirement already satisfied: propcache>=0.2.0 in /usr/local/lib/python3.11/dist-packages (from aiohttp<4.0.0,>=3.8.3->langchain_community) (0.3.0)\n",
            "Requirement already satisfied: yarl<2.0,>=1.17.0 in /usr/local/lib/python3.11/dist-packages (from aiohttp<4.0.0,>=3.8.3->langchain_community) (1.18.3)\n",
            "Requirement already satisfied: pyproject_hooks in /usr/local/lib/python3.11/dist-packages (from build>=1.0.3->chromadb) (1.2.0)\n",
            "Collecting marshmallow<4.0.0,>=3.18.0 (from dataclasses-json<0.7,>=0.5.7->langchain_community)\n",
            "  Downloading marshmallow-3.26.1-py3-none-any.whl.metadata (7.3 kB)\n",
            "Collecting typing-inspect<1,>=0.4.0 (from dataclasses-json<0.7,>=0.5.7->langchain_community)\n",
            "  Downloading typing_inspect-0.9.0-py3-none-any.whl.metadata (1.5 kB)\n",
            "Requirement already satisfied: starlette<0.47.0,>=0.40.0 in /usr/local/lib/python3.11/dist-packages (from fastapi>=0.95.2->chromadb) (0.46.1)\n",
            "Requirement already satisfied: anyio in /usr/local/lib/python3.11/dist-packages (from httpx>=0.27.0->chromadb) (4.9.0)\n",
            "Requirement already satisfied: certifi in /usr/local/lib/python3.11/dist-packages (from httpx>=0.27.0->chromadb) (2025.1.31)\n",
            "Requirement already satisfied: httpcore==1.* in /usr/local/lib/python3.11/dist-packages (from httpx>=0.27.0->chromadb) (1.0.7)\n",
            "Requirement already satisfied: idna in /usr/local/lib/python3.11/dist-packages (from httpx>=0.27.0->chromadb) (3.10)\n",
            "Requirement already satisfied: h11<0.15,>=0.13 in /usr/local/lib/python3.11/dist-packages (from httpcore==1.*->httpx>=0.27.0->chromadb) (0.14.0)\n",
            "Requirement already satisfied: six>=1.9.0 in /usr/local/lib/python3.11/dist-packages (from kubernetes>=28.1.0->chromadb) (1.17.0)\n",
            "Requirement already satisfied: python-dateutil>=2.5.3 in /usr/local/lib/python3.11/dist-packages (from kubernetes>=28.1.0->chromadb) (2.8.2)\n",
            "Requirement already satisfied: google-auth>=1.0.1 in /usr/local/lib/python3.11/dist-packages (from kubernetes>=28.1.0->chromadb) (2.38.0)\n",
            "Requirement already satisfied: websocket-client!=0.40.0,!=0.41.*,!=0.42.*,>=0.32.0 in /usr/local/lib/python3.11/dist-packages (from kubernetes>=28.1.0->chromadb) (1.8.0)\n",
            "Requirement already satisfied: requests-oauthlib in /usr/local/lib/python3.11/dist-packages (from kubernetes>=28.1.0->chromadb) (2.0.0)\n",
            "Requirement already satisfied: oauthlib>=3.2.2 in /usr/local/lib/python3.11/dist-packages (from kubernetes>=28.1.0->chromadb) (3.2.2)\n",
            "Requirement already satisfied: urllib3>=1.24.2 in /usr/local/lib/python3.11/dist-packages (from kubernetes>=28.1.0->chromadb) (2.3.0)\n",
            "Requirement already satisfied: durationpy>=0.7 in /usr/local/lib/python3.11/dist-packages (from kubernetes>=28.1.0->chromadb) (0.9)\n",
            "Requirement already satisfied: jsonpatch<2.0,>=1.33 in /usr/local/lib/python3.11/dist-packages (from langchain-core<1.0.0,>=0.3.45->langchain_community) (1.33)\n",
            "Requirement already satisfied: requests-toolbelt<2.0.0,>=1.0.0 in /usr/local/lib/python3.11/dist-packages (from langsmith<0.4,>=0.1.125->langchain_community) (1.0.0)\n",
            "Requirement already satisfied: zstandard<0.24.0,>=0.23.0 in /usr/local/lib/python3.11/dist-packages (from langsmith<0.4,>=0.1.125->langchain_community) (0.23.0)\n",
            "Requirement already satisfied: coloredlogs in /usr/local/lib/python3.11/dist-packages (from onnxruntime>=1.14.1->chromadb) (15.0.1)\n",
            "Requirement already satisfied: flatbuffers in /usr/local/lib/python3.11/dist-packages (from onnxruntime>=1.14.1->chromadb) (25.2.10)\n",
            "Requirement already satisfied: protobuf in /usr/local/lib/python3.11/dist-packages (from onnxruntime>=1.14.1->chromadb) (5.29.3)\n",
            "Requirement already satisfied: sympy in /usr/local/lib/python3.11/dist-packages (from onnxruntime>=1.14.1->chromadb) (1.13.1)\n",
            "Requirement already satisfied: distro<2,>=1.7.0 in /usr/local/lib/python3.11/dist-packages (from openai<2.0.0,>=1.66.3->langchain-openai) (1.9.0)\n",
            "Requirement already satisfied: jiter<1,>=0.4.0 in /usr/local/lib/python3.11/dist-packages (from openai<2.0.0,>=1.66.3->langchain-openai) (0.9.0)\n",
            "Requirement already satisfied: sniffio in /usr/local/lib/python3.11/dist-packages (from openai<2.0.0,>=1.66.3->langchain-openai) (1.3.1)\n",
            "Requirement already satisfied: deprecated>=1.2.6 in /usr/local/lib/python3.11/dist-packages (from opentelemetry-api>=1.2.0->chromadb) (1.2.18)\n",
            "Requirement already satisfied: importlib-metadata<8.7.0,>=6.0 in /usr/local/lib/python3.11/dist-packages (from opentelemetry-api>=1.2.0->chromadb) (8.6.1)\n",
            "Requirement already satisfied: googleapis-common-protos~=1.52 in /usr/local/lib/python3.11/dist-packages (from opentelemetry-exporter-otlp-proto-grpc>=1.2.0->chromadb) (1.69.2)\n",
            "Requirement already satisfied: opentelemetry-exporter-otlp-proto-common==1.31.1 in /usr/local/lib/python3.11/dist-packages (from opentelemetry-exporter-otlp-proto-grpc>=1.2.0->chromadb) (1.31.1)\n",
            "Requirement already satisfied: opentelemetry-proto==1.31.1 in /usr/local/lib/python3.11/dist-packages (from opentelemetry-exporter-otlp-proto-grpc>=1.2.0->chromadb) (1.31.1)\n",
            "Requirement already satisfied: opentelemetry-instrumentation-asgi==0.52b1 in /usr/local/lib/python3.11/dist-packages (from opentelemetry-instrumentation-fastapi>=0.41b0->chromadb) (0.52b1)\n",
            "Requirement already satisfied: opentelemetry-instrumentation==0.52b1 in /usr/local/lib/python3.11/dist-packages (from opentelemetry-instrumentation-fastapi>=0.41b0->chromadb) (0.52b1)\n",
            "Requirement already satisfied: opentelemetry-semantic-conventions==0.52b1 in /usr/local/lib/python3.11/dist-packages (from opentelemetry-instrumentation-fastapi>=0.41b0->chromadb) (0.52b1)\n",
            "Requirement already satisfied: opentelemetry-util-http==0.52b1 in /usr/local/lib/python3.11/dist-packages (from opentelemetry-instrumentation-fastapi>=0.41b0->chromadb) (0.52b1)\n",
            "Requirement already satisfied: wrapt<2.0.0,>=1.0.0 in /usr/local/lib/python3.11/dist-packages (from opentelemetry-instrumentation==0.52b1->opentelemetry-instrumentation-fastapi>=0.41b0->chromadb) (1.17.2)\n",
            "Requirement already satisfied: asgiref~=3.0 in /usr/local/lib/python3.11/dist-packages (from opentelemetry-instrumentation-asgi==0.52b1->opentelemetry-instrumentation-fastapi>=0.41b0->chromadb) (3.8.1)\n",
            "Requirement already satisfied: monotonic>=1.5 in /usr/local/lib/python3.11/dist-packages (from posthog>=2.4.0->chromadb) (1.6)\n",
            "Requirement already satisfied: backoff>=1.10.0 in /usr/local/lib/python3.11/dist-packages (from posthog>=2.4.0->chromadb) (2.2.1)\n",
            "Requirement already satisfied: annotated-types>=0.6.0 in /usr/local/lib/python3.11/dist-packages (from pydantic>=1.9->chromadb) (0.7.0)\n",
            "Requirement already satisfied: pydantic-core==2.27.2 in /usr/local/lib/python3.11/dist-packages (from pydantic>=1.9->chromadb) (2.27.2)\n",
            "Requirement already satisfied: python-dotenv>=0.21.0 in /usr/local/lib/python3.11/dist-packages (from pydantic-settings<3.0.0,>=2.4.0->langchain_community) (1.0.1)\n",
            "Requirement already satisfied: charset-normalizer<4,>=2 in /usr/local/lib/python3.11/dist-packages (from requests<3,>=2->langchain_community) (3.4.1)\n",
            "Requirement already satisfied: markdown-it-py>=2.2.0 in /usr/local/lib/python3.11/dist-packages (from rich>=10.11.0->chromadb) (3.0.0)\n",
            "Requirement already satisfied: pygments<3.0.0,>=2.13.0 in /usr/local/lib/python3.11/dist-packages (from rich>=10.11.0->chromadb) (2.18.0)\n",
            "Requirement already satisfied: greenlet!=0.4.17 in /usr/local/lib/python3.11/dist-packages (from SQLAlchemy<3,>=1.4->langchain_community) (3.1.1)\n",
            "Requirement already satisfied: regex>=2022.1.18 in /usr/local/lib/python3.11/dist-packages (from tiktoken<1,>=0.7->langchain-openai) (2024.11.6)\n",
            "Requirement already satisfied: huggingface-hub<1.0,>=0.16.4 in /usr/local/lib/python3.11/dist-packages (from tokenizers>=0.13.2->chromadb) (0.29.3)\n",
            "Requirement already satisfied: click>=8.0.0 in /usr/local/lib/python3.11/dist-packages (from typer>=0.9.0->chromadb) (8.1.8)\n",
            "Requirement already satisfied: shellingham>=1.3.0 in /usr/local/lib/python3.11/dist-packages (from typer>=0.9.0->chromadb) (1.5.4)\n",
            "Requirement already satisfied: httptools>=0.6.3 in /usr/local/lib/python3.11/dist-packages (from uvicorn[standard]>=0.18.3->chromadb) (0.6.4)\n",
            "Requirement already satisfied: uvloop!=0.15.0,!=0.15.1,>=0.14.0 in /usr/local/lib/python3.11/dist-packages (from uvicorn[standard]>=0.18.3->chromadb) (0.21.0)\n",
            "Requirement already satisfied: watchfiles>=0.13 in /usr/local/lib/python3.11/dist-packages (from uvicorn[standard]>=0.18.3->chromadb) (1.0.4)\n",
            "Requirement already satisfied: websockets>=10.4 in /usr/local/lib/python3.11/dist-packages (from uvicorn[standard]>=0.18.3->chromadb) (14.2)\n",
            "Requirement already satisfied: cachetools<6.0,>=2.0.0 in /usr/local/lib/python3.11/dist-packages (from google-auth>=1.0.1->kubernetes>=28.1.0->chromadb) (5.5.2)\n",
            "Requirement already satisfied: pyasn1-modules>=0.2.1 in /usr/local/lib/python3.11/dist-packages (from google-auth>=1.0.1->kubernetes>=28.1.0->chromadb) (0.4.1)\n",
            "Requirement already satisfied: rsa<5,>=3.1.4 in /usr/local/lib/python3.11/dist-packages (from google-auth>=1.0.1->kubernetes>=28.1.0->chromadb) (4.9)\n",
            "Requirement already satisfied: filelock in /usr/local/lib/python3.11/dist-packages (from huggingface-hub<1.0,>=0.16.4->tokenizers>=0.13.2->chromadb) (3.18.0)\n",
            "Requirement already satisfied: fsspec>=2023.5.0 in /usr/local/lib/python3.11/dist-packages (from huggingface-hub<1.0,>=0.16.4->tokenizers>=0.13.2->chromadb) (2025.3.0)\n",
            "Requirement already satisfied: zipp>=3.20 in /usr/local/lib/python3.11/dist-packages (from importlib-metadata<8.7.0,>=6.0->opentelemetry-api>=1.2.0->chromadb) (3.21.0)\n",
            "Requirement already satisfied: jsonpointer>=1.9 in /usr/local/lib/python3.11/dist-packages (from jsonpatch<2.0,>=1.33->langchain-core<1.0.0,>=0.3.45->langchain_community) (3.0.0)\n",
            "Requirement already satisfied: mdurl~=0.1 in /usr/local/lib/python3.11/dist-packages (from markdown-it-py>=2.2.0->rich>=10.11.0->chromadb) (0.1.2)\n",
            "Collecting mypy-extensions>=0.3.0 (from typing-inspect<1,>=0.4.0->dataclasses-json<0.7,>=0.5.7->langchain_community)\n",
            "  Downloading mypy_extensions-1.0.0-py3-none-any.whl.metadata (1.1 kB)\n",
            "Requirement already satisfied: humanfriendly>=9.1 in /usr/local/lib/python3.11/dist-packages (from coloredlogs->onnxruntime>=1.14.1->chromadb) (10.0)\n",
            "Requirement already satisfied: mpmath<1.4,>=1.1.0 in /usr/local/lib/python3.11/dist-packages (from sympy->onnxruntime>=1.14.1->chromadb) (1.3.0)\n",
            "Requirement already satisfied: pyasn1<0.7.0,>=0.4.6 in /usr/local/lib/python3.11/dist-packages (from pyasn1-modules>=0.2.1->google-auth>=1.0.1->kubernetes>=28.1.0->chromadb) (0.6.1)\n",
            "Downloading langchain_community-0.3.20-py3-none-any.whl (2.5 MB)\n",
            "\u001b[2K   \u001b[90m━━━━━━━━━━━━━━━━━━━━━━━━━━━━━━━━━━━━━━━━\u001b[0m \u001b[32m2.5/2.5 MB\u001b[0m \u001b[31m26.9 MB/s\u001b[0m eta \u001b[36m0:00:00\u001b[0m\n",
            "\u001b[?25hDownloading langchain_openai-0.3.9-py3-none-any.whl (60 kB)\n",
            "\u001b[2K   \u001b[90m━━━━━━━━━━━━━━━━━━━━━━━━━━━━━━━━━━━━━━━━\u001b[0m \u001b[32m60.9/60.9 kB\u001b[0m \u001b[31m4.0 MB/s\u001b[0m eta \u001b[36m0:00:00\u001b[0m\n",
            "\u001b[?25hDownloading langchainhub-0.1.21-py3-none-any.whl (5.2 kB)\n",
            "Downloading langchain-0.3.21-py3-none-any.whl (1.0 MB)\n",
            "\u001b[2K   \u001b[90m━━━━━━━━━━━━━━━━━━━━━━━━━━━━━━━━━━━━━━━━\u001b[0m \u001b[32m1.0/1.0 MB\u001b[0m \u001b[31m40.1 MB/s\u001b[0m eta \u001b[36m0:00:00\u001b[0m\n",
            "\u001b[?25hDownloading dataclasses_json-0.6.7-py3-none-any.whl (28 kB)\n",
            "Downloading httpx_sse-0.4.0-py3-none-any.whl (7.8 kB)\n",
            "Downloading langchain_text_splitters-0.3.7-py3-none-any.whl (32 kB)\n",
            "Downloading pydantic_settings-2.8.1-py3-none-any.whl (30 kB)\n",
            "Downloading tiktoken-0.9.0-cp311-cp311-manylinux_2_17_x86_64.manylinux2014_x86_64.whl (1.2 MB)\n",
            "\u001b[2K   \u001b[90m━━━━━━━━━━━━━━━━━━━━━━━━━━━━━━━━━━━━━━━━\u001b[0m \u001b[32m1.2/1.2 MB\u001b[0m \u001b[31m45.9 MB/s\u001b[0m eta \u001b[36m0:00:00\u001b[0m\n",
            "\u001b[?25hDownloading types_requests-2.32.0.20250306-py3-none-any.whl (20 kB)\n",
            "Downloading marshmallow-3.26.1-py3-none-any.whl (50 kB)\n",
            "\u001b[2K   \u001b[90m━━━━━━━━━━━━━━━━━━━━━━━━━━━━━━━━━━━━━━━━\u001b[0m \u001b[32m50.9/50.9 kB\u001b[0m \u001b[31m3.2 MB/s\u001b[0m eta \u001b[36m0:00:00\u001b[0m\n",
            "\u001b[?25hDownloading typing_inspect-0.9.0-py3-none-any.whl (8.8 kB)\n",
            "Downloading mypy_extensions-1.0.0-py3-none-any.whl (4.7 kB)\n",
            "Installing collected packages: types-requests, mypy-extensions, marshmallow, httpx-sse, typing-inspect, tiktoken, langchainhub, pydantic-settings, dataclasses-json, langchain-text-splitters, langchain-openai, langchain, langchain_community\n",
            "  Attempting uninstall: langchain-text-splitters\n",
            "    Found existing installation: langchain-text-splitters 0.3.6\n",
            "    Uninstalling langchain-text-splitters-0.3.6:\n",
            "      Successfully uninstalled langchain-text-splitters-0.3.6\n",
            "  Attempting uninstall: langchain\n",
            "    Found existing installation: langchain 0.3.20\n",
            "    Uninstalling langchain-0.3.20:\n",
            "      Successfully uninstalled langchain-0.3.20\n",
            "Successfully installed dataclasses-json-0.6.7 httpx-sse-0.4.0 langchain-0.3.21 langchain-openai-0.3.9 langchain-text-splitters-0.3.7 langchain_community-0.3.20 langchainhub-0.1.21 marshmallow-3.26.1 mypy-extensions-1.0.0 pydantic-settings-2.8.1 tiktoken-0.9.0 types-requests-2.32.0.20250306 typing-inspect-0.9.0\n"
          ]
        }
      ]
    },
    {
      "cell_type": "code",
      "source": [
        "from langchain_community.document_loaders import WebBaseLoader\n",
        "\n",
        "loader = WebBaseLoader(\n",
        "    web_paths=[\"https://www.ibm.com/design/ai/basics/ml/\"]\n",
        ")\n",
        "docs = loader.load()\n",
        "print(docs)"
      ],
      "metadata": {
        "colab": {
          "base_uri": "https://localhost:8080/"
        },
        "id": "VXSjdmmt0eON",
        "outputId": "1d2b9235-af61-4f1f-b60e-ed92db5348eb"
      },
      "execution_count": 79,
      "outputs": [
        {
          "output_type": "stream",
          "name": "stdout",
          "text": [
            "[Document(metadata={'source': 'https://www.ibm.com/design/ai/basics/ml/', 'title': 'Machine learning', 'description': 'Our practice is built on our Principles for the AI Era as a resource for all designers and developers. This shared collection of ethics, guidelines, and resources ensures that IBM products share a unified foundation.', 'language': 'en'}, page_content='Machine learningSkip to main contentIBM\\xa0Design for AISearchFoundationsIBM Brand CenterIBM Design LanguageImplementationCarbon Design SystemCarbon for IBM.comIBM Event DesignPracticesEnterprise Design ThinkingIBM AccessibilityIBM Design for AIIBM Design ResearchIBM iXCommunityIBM DesignFundamentalsTeam essentialsBasicsArtificial intelligenceMachine learningDataEthicsOverviewEveryday ethics for AIAccountabilityValue alignmentExplainabilityFairnessUser data rightsConversationOverviewPlanningCollapse navigation itemsMachine learning  These are technical guides for non-technical people. Whether you’ve found yourself in need of knowing AI or have always been curious to learn more, this will teach you enough to dive deeper into the vast and deep AI ocean. The purpose of these explanations is to succinctly break down complicated topics without relying on technical jargon.What is machine learning?Machine learning (ML) is a subset of artificial intelligence (AI), that is all about getting an AI to accomplish tasks without being given specific instructions. In essence, it’s about teaching machines how to learn!AI is simulated human cognition, so let’s first think about how we learn. Here’s a simple question: were we born with PhD level intelligence?Of course not! At the beginning of our lives, we have little understanding of the world around us, but over time we grow to learn a lot. We use our senses to take in data, and learn via a combination of interacting with the world around us, being explicitly taught certain things by others, finding patterns over time, and, of course, lots of trial-and-error.\\xa0AI learns in a similar way. When it’s first created, an AI knows nothing; ML gives AI the ability to learn about its world.Note: This guide makes comparisons to human intelligence to make it easier to understand the basic concepts of machine cognition. Organic thought is obviously different from artificial thought, both technically and philosophically, but philosophy is not the purpose of this document. Our goal is to provide the most digestible and practical explanation of AI.Why use machine learning?AI is all about allowing a system to learn from examples rather than instructions. ML is what makes that possible.AIs are taught, not explicitly programmed. In other words, instead of spelling out specific rules to solve a problem, we give them examples of what they will encounter in the real world and let them find the patterns themselves.\\xa0Allowing machines to find patterns is beneficial over spelling out the instructions when the instructions are hard or unknown or when the data has many different variables, for example treating cancer, predicting the stock market.\\n\\n\\nHow does machine learning work?There are a few distinct ways that machines can learn. In most cases, it’ll fall under one of three buckets: supervised learning, unsupervised learning, and reinforcement learning.\\xa0Remember that we as humans also have discrete learning styles. Sometimes we learn by watching videos and reading books; other times\\xa0we acquire knowledge based on hearing it\\xa0in context. There are also learning certain tasks that require a specific learning style.\\xa0For example, we can always read about baseball, but if we want to hit a ball, there’s no amount of reading that can substitute practicing swinging a bat.\\xa0This separation in learning styles is the basic idea behind the different branches of ML.Supervised learningSupervised learning specializes in predicting the future. This is split further depending on whether it’s predicting a thing or a number, called classification or regression, respectively. To understand how this works, you start with the data. All supervised learning algorithms need what’s called labeled data. This data is grouped into samples that have been tagged with one or more labels. In other words, applying supervised learning requires you to tell your model 1. what the key characteristics of a thing are (called features); and 2. what that thing actually is.\\xa0To demonstrate the former, let’s take the example of teaching a child their shapes.\\xa0This is classification problem and starts by giving the child a shapes sheet, which shows shapes and the shape’s corresponding name (Fig. 1).\\xa0\\n\\n\\n(Fig. 1) Supervised learning uses labeled data\\n\\n\\n(Fig. 2) ML requires many examples in order to learn key patternsCircles are simple enough. Every circle is perfectly round (with infinite sides); this pieces of information is the key feature of a circle.Triangles are a little more complex. Based on the shapes sheet, your child might assume that all triangles have equal-length sides. In order for your child to better understand triangles, you’d have to show her or him more examples.\\xa0Doing this would build their confidence in identifying triangular shapes (Fig. 2).After consuming these additional examples, your child would learn that the key feature of a triangle is having three sides, but also that those sides can be of varying lengths, unlike the square.Now let’s consider the other type of supervised learning: predicting a value. Let’s say you’re trying to predict how much your salary should be. Assume you could see everyone else’s pay, along with their roles, experience, responsibilities, band level, and other relevant information. You could then use this data to see whose situations are closest to yours (ie. people with similar roles, experience, responsibilities, etc.), and determine what your salary range should look like based on what those folks are being paid. This is called a\\xa0regression\\xa0problem.In a nutshell, supervised learning is about providing your AI with enough examples to make accurate predictions.Unsupervised learningUnsupervised learning\\xa0finds\\xa0commonalities and patterns in the input data on its own. By extension, it’s also commonly used to find outliers and anomalies in a dataset.\\xa0Most unsupervised learning focuses on clustering—that is, grouping the data by some set of characteristics or\\xa0features. This is the same\\xa0“features”\\xa0mentioned in supervised learning, although unsupervised learning doesn’t use labeled data.Let’s use the example again of the child and the shapes. Suppose again that you had a child group similar shapes together. The child will likely group, (or cluster), by shape, color, or size. This mode of learning is great for surfacing hidden connections or oddities in oceans of data.\\n\\n\\nReinforcement learningReinforcement learning is about rewarding positive behavior and punishing negative behavior. Over time, this can help your AI determine the optimal behavior for a particular environment or situation.\\xa0Think back to your childhood. When you were at school or at home, what happened when you did something bad? You probably got scolded, grounded, or a long lecture. What happened when you did something good?\\xa0 Maybe you got praise or gifts. Rewarding the “right” behavior and punishing the “wrong” behavior is the cornerstone of reinforcement learning; that is you give your agent positive reinforcement for doing the right thing and negative reinforcement for the wrong things.\\xa0The ingredients of a reinforcement learning problem are:\\xa0an agent,\\xa0its environment,\\xa0a way for the agent to interact with its environment, and\\xa0a way for the agent to get feedback on its actions within the environment (called a reward function or feedback function).ML isn’t magic; it’s math. Statistics, probability, linear algebra, and algorithms are what bring ML to life.Deep learning and neural networksDeep learning (DL) is a subset of machine learning, therefore everything you just learned still applies.\\xa0The motivation is still trying to predict an output given a set of inputs, and either supervised learning or unsupervised learning can be used. The key differences are performance and how it works.\\xa0For now, just know that deep learning is machine learning that uses a neural network with multiple\\xa0hidden layers.\\n\\n\\nDeep learning is a subset of ML, which is a subset of AI.DL is uniquely suited for making deep connections within the data because of neural networks. Neural networks come in many shapes and sizes, but are essential for making deep learning work. They take an input, and perform several rounds of math on its features for each layer, until it predicts an output. (Deep breath, the rules of ML still apply.) DL uses a specific subset of NN in order to work.The caveat to NN are that in order to be powerful, they need a lot of data and take a long time to train, thus can be expensive comparatively. Also because the human allows the machine to find deeper connections in the data, the process is near non-understandable and not very transparent.Some notable examples include the deep-fake videos, restoring black and white photos, self driving cars, video games AIs, and sophisticated robotics (e.g. Boston Dynamics).\\xa0ML in the real world\\xa0Visual recognition\\xa0Despite seeing pictures on screens all the time, it’s surprising to know that machines had no clue what it was looking at until recently. Developments in ML has enabled us to supply pictures of, for example, a cat and over time, machines will begin to discern which pictures have cats in them from data it hasn’t seen yet.\\xa0Cancer treatmentWhen it comes to diagnosing and treating cancer, there are innumerable variables to account for. ML can look through historical patient records and treatment plans to suggest treatment plans for the current patient, thereby expediting the process dramatically.User leaving your productNo one wants to see a user go. Luckily in many cases, a user will demonstrate patterns indicative of an eminent departure. ML can classify a user’s behavior as one that will likely leave soon.Stock market predictionsPeople are serious about their money, especially when it’s their job. Those in the financial industry are always looking for a way to stay competitive and ahead of the curve. With decades of stock market data to pore over, companies have invested in having an AI determine what to do now based on the trends in the market its seen before. To buy or to sell — a classification problem. How much will this stock be valued tomorrow, a regression problem.See for yourselfWatson Personality Insights DemoWatson Natural Language UnderstandingMIT DeepmojiA visual introduction to machine learningPreviousBasics: Artificial intelligenceNextBasics: DataPrivacyTerms of UseIBM.comTwitterLast updated 06 December 2022Copyright © 2022 IBM')]\n"
          ]
        }
      ]
    },
    {
      "cell_type": "code",
      "source": [
        "from langchain.text_splitter import RecursiveCharacterTextSplitter\n",
        "\n",
        "text_splitter = RecursiveCharacterTextSplitter(chunk_size=1000, chunk_overlap=10)\n",
        "splits = text_splitter.split_documents(docs)"
      ],
      "metadata": {
        "id": "DuG0n9Df1AnX"
      },
      "execution_count": 89,
      "outputs": []
    },
    {
      "cell_type": "code",
      "source": [
        "print(splits[0])"
      ],
      "metadata": {
        "colab": {
          "base_uri": "https://localhost:8080/"
        },
        "id": "NHUMxoKK1Ut-",
        "outputId": "fc376e23-4e53-4643-e6db-69fafd72f0c4"
      },
      "execution_count": 90,
      "outputs": [
        {
          "output_type": "stream",
          "name": "stdout",
          "text": [
            "page_content='Machine learningSkip to main contentIBM Design for AISearchFoundationsIBM Brand CenterIBM Design LanguageImplementationCarbon Design SystemCarbon for IBM.comIBM Event DesignPracticesEnterprise Design ThinkingIBM AccessibilityIBM Design for AIIBM Design ResearchIBM iXCommunityIBM DesignFundamentalsTeam essentialsBasicsArtificial intelligenceMachine learningDataEthicsOverviewEveryday ethics for AIAccountabilityValue alignmentExplainabilityFairnessUser data rightsConversationOverviewPlanningCollapse navigation itemsMachine learning  These are technical guides for non-technical people. Whether you’ve found yourself in need of knowing AI or have always been curious to learn more, this will teach you enough to dive deeper into the vast and deep AI ocean. The purpose of these explanations is to succinctly break down complicated topics without relying on technical jargon.What is machine learning?Machine learning (ML) is a subset of artificial intelligence (AI), that is all about getting an AI' metadata={'source': 'https://www.ibm.com/design/ai/basics/ml/', 'title': 'Machine learning', 'description': 'Our practice is built on our Principles for the AI Era as a resource for all designers and developers. This shared collection of ethics, guidelines, and resources ensures that IBM products share a unified foundation.', 'language': 'en'}\n"
          ]
        }
      ]
    },
    {
      "cell_type": "code",
      "source": [
        "print(splits[1])"
      ],
      "metadata": {
        "colab": {
          "base_uri": "https://localhost:8080/"
        },
        "id": "ZOX_yj6J1X8d",
        "outputId": "c1c4daee-8b9f-4b30-d82f-9afe13d99ad7"
      },
      "execution_count": 91,
      "outputs": [
        {
          "output_type": "stream",
          "name": "stdout",
          "text": [
            "page_content='an AI to accomplish tasks without being given specific instructions. In essence, it’s about teaching machines how to learn!AI is simulated human cognition, so let’s first think about how we learn. Here’s a simple question: were we born with PhD level intelligence?Of course not! At the beginning of our lives, we have little understanding of the world around us, but over time we grow to learn a lot. We use our senses to take in data, and learn via a combination of interacting with the world around us, being explicitly taught certain things by others, finding patterns over time, and, of course, lots of trial-and-error. AI learns in a similar way. When it’s first created, an AI knows nothing; ML gives AI the ability to learn about its world.Note: This guide makes comparisons to human intelligence to make it easier to understand the basic concepts of machine cognition. Organic thought is obviously different from artificial thought, both technically and philosophically, but philosophy is' metadata={'source': 'https://www.ibm.com/design/ai/basics/ml/', 'title': 'Machine learning', 'description': 'Our practice is built on our Principles for the AI Era as a resource for all designers and developers. This shared collection of ethics, guidelines, and resources ensures that IBM products share a unified foundation.', 'language': 'en'}\n"
          ]
        }
      ]
    },
    {
      "cell_type": "code",
      "source": [
        "#Embed and store in Chroma\n",
        "from langchain_community.vectorstores import Chroma\n",
        "from langchain_community.embeddings import HuggingFaceEmbeddings\n",
        "\n",
        "embedding_model = HuggingFaceEmbeddings(model_name=\"all-MiniLM-L6-v2\")\n",
        "persist_dir = \"./chromadb_ibm\"\n",
        "\n",
        "vectorstore = Chroma.from_documents(\n",
        "    documents=splits,\n",
        "    embedding=embedding_model,\n",
        "    persist_directory=persist_dir\n",
        ")\n",
        "vectorstore.persist()\n",
        "\n",
        "print(\"✅ Vectorstore created and persisted.\")\n"
      ],
      "metadata": {
        "colab": {
          "base_uri": "https://localhost:8080/"
        },
        "id": "O5qH4uxc2pPH",
        "outputId": "9d2b507b-cb4f-44ae-9faf-10709910032b"
      },
      "execution_count": 93,
      "outputs": [
        {
          "output_type": "stream",
          "name": "stderr",
          "text": [
            "<ipython-input-93-f57404f5adb6>:5: LangChainDeprecationWarning: The class `HuggingFaceEmbeddings` was deprecated in LangChain 0.2.2 and will be removed in 1.0. An updated version of the class exists in the :class:`~langchain-huggingface package and should be used instead. To use it run `pip install -U :class:`~langchain-huggingface` and import as `from :class:`~langchain_huggingface import HuggingFaceEmbeddings``.\n",
            "  embedding_model = HuggingFaceEmbeddings(model_name=\"all-MiniLM-L6-v2\")\n"
          ]
        },
        {
          "output_type": "stream",
          "name": "stdout",
          "text": [
            "✅ Vectorstore created and persisted.\n"
          ]
        },
        {
          "output_type": "stream",
          "name": "stderr",
          "text": [
            "<ipython-input-93-f57404f5adb6>:13: LangChainDeprecationWarning: Since Chroma 0.4.x the manual persistence method is no longer supported as docs are automatically persisted.\n",
            "  vectorstore.persist()\n"
          ]
        }
      ]
    },
    {
      "cell_type": "code",
      "source": [
        "print(vectorstore._collection.count())  # Check total stored chunks"
      ],
      "metadata": {
        "colab": {
          "base_uri": "https://localhost:8080/"
        },
        "id": "7GUl6hUO327R",
        "outputId": "e4682ae1-6c0b-4f7b-9d15-50833cf4b82f"
      },
      "execution_count": 94,
      "outputs": [
        {
          "output_type": "stream",
          "name": "stdout",
          "text": [
            "14\n"
          ]
        }
      ]
    },
    {
      "cell_type": "code",
      "source": [
        "retriever = vectorstore.as_retriever()"
      ],
      "metadata": {
        "id": "DLWdUFLM5Myw"
      },
      "execution_count": 95,
      "outputs": []
    },
    {
      "cell_type": "code",
      "source": [
        "from langchain_core.prompts import ChatPromptTemplate\n",
        "\n",
        "prompt_template = ChatPromptTemplate.from_template(\"\"\"\n",
        "You are an intelligent assistant. Use the following context to answer the question.\n",
        "If you don't know the answer, just say you don't know — don't make anything up.\n",
        "Use four sentences maximum and keep the answer concise.\n",
        "\n",
        "Context:\n",
        "{context}\n",
        "\n",
        "Question: {question}\n",
        "\"\"\")\n"
      ],
      "metadata": {
        "id": "SDHGyx7v5QZd"
      },
      "execution_count": 96,
      "outputs": []
    },
    {
      "cell_type": "code",
      "source": [
        "from langchain_groq import ChatGroq\n",
        "\n",
        "llm = ChatGroq(model_name=\"llama3-8b-8192\")\n"
      ],
      "metadata": {
        "id": "FyRiSJ-b7uOM"
      },
      "execution_count": 104,
      "outputs": []
    },
    {
      "cell_type": "code",
      "source": [
        "#Retriever gives multiple docs,we need to format them in one doc(concate similar(closest dist docs into one)) go pass through llm\n",
        "def concate_docs(docs):\n",
        "    return \"\\n\\n\".join(doc.page_content for doc in docs)"
      ],
      "metadata": {
        "id": "vnypX0c385Ea"
      },
      "execution_count": 105,
      "outputs": []
    },
    {
      "cell_type": "code",
      "source": [
        "#need to pass context and question\n",
        "#Building RAG Pipeline\n",
        "from langchain_core.runnables import RunnablePassthrough\n",
        "from langchain_core.output_parsers import StrOutputParser\n"
      ],
      "metadata": {
        "id": "7xo0uYg9716k"
      },
      "execution_count": 106,
      "outputs": []
    },
    {
      "cell_type": "code",
      "source": [
        "rag_pipeline = ({'context': retriever | concate_docs, 'question': RunnablePassthrough()}\n",
        "                 | prompt_template|llm|StrOutputParser())\n",
        ""
      ],
      "metadata": {
        "id": "5SXur_Tw9ive"
      },
      "execution_count": 107,
      "outputs": []
    },
    {
      "cell_type": "code",
      "source": [
        "rag_pipeline.invoke(\"what is Machine Learning?\")"
      ],
      "metadata": {
        "colab": {
          "base_uri": "https://localhost:8080/",
          "height": 54
        },
        "id": "TZvPt9C4-A7n",
        "outputId": "bb100051-567b-48bc-8666-2bac020d040f"
      },
      "execution_count": 108,
      "outputs": [
        {
          "output_type": "execute_result",
          "data": {
            "text/plain": [
              "'Machine learning is a subset of artificial intelligence that enables an AI system to learn from examples rather than explicit instructions. It allows a system to find patterns in data and make predictions or decisions without being explicitly programmed. Machine learning uses labeled data, which is grouped into samples with tags or labels, to train algorithms and make predictions or classifications.'"
            ],
            "application/vnd.google.colaboratory.intrinsic+json": {
              "type": "string"
            }
          },
          "metadata": {},
          "execution_count": 108
        }
      ]
    },
    {
      "cell_type": "code",
      "source": [
        "rag_pipeline.invoke(\"what is the difference between Machine Learning and Deep Learning?\")"
      ],
      "metadata": {
        "colab": {
          "base_uri": "https://localhost:8080/",
          "height": 54
        },
        "id": "M03knosc-Nag",
        "outputId": "09ffe06c-dea4-46af-f4fa-cd16de5f361d"
      },
      "execution_count": 109,
      "outputs": [
        {
          "output_type": "execute_result",
          "data": {
            "text/plain": [
              "'Machine learning (ML) is a subset of artificial intelligence (AI) that enables a machine to learn from data without being explicitly programmed. Deep learning (DL) is a subset of machine learning that uses a neural network with multiple hidden layers to make deep connections within the data.'"
            ],
            "application/vnd.google.colaboratory.intrinsic+json": {
              "type": "string"
            }
          },
          "metadata": {},
          "execution_count": 109
        }
      ]
    },
    {
      "cell_type": "code",
      "source": [
        "rag_pipeline.invoke(\"what is the difference between Machine Learning and Deep Learning and Artificial Intelligence?\")"
      ],
      "metadata": {
        "colab": {
          "base_uri": "https://localhost:8080/",
          "height": 72
        },
        "id": "0VKA0uTG-wIp",
        "outputId": "1a5a7e07-3d61-4a87-80d3-35240bdfd71d"
      },
      "execution_count": 110,
      "outputs": [
        {
          "output_type": "execute_result",
          "data": {
            "text/plain": [
              "\"Here's a concise answer:\\n\\nMachine Learning (ML) is a subset of Artificial Intelligence (AI) that enables AI to learn from data without being explicitly programmed. Deep Learning (DL) is a subset of Machine Learning that uses neural networks with multiple hidden layers to make predictions. While ML is a broader field, DL is a specific type of ML that is uniquely suited for making deep connections within data.\""
            ],
            "application/vnd.google.colaboratory.intrinsic+json": {
              "type": "string"
            }
          },
          "metadata": {},
          "execution_count": 110
        }
      ]
    },
    {
      "cell_type": "code",
      "source": [
        "rag_pipeline.invoke(\"What is a neuron?\")"
      ],
      "metadata": {
        "colab": {
          "base_uri": "https://localhost:8080/",
          "height": 54
        },
        "id": "3EyNKtkL-2zq",
        "outputId": "d75e1929-0d51-4c28-c184-91dc1be4ff60"
      },
      "execution_count": 111,
      "outputs": [
        {
          "output_type": "execute_result",
          "data": {
            "text/plain": [
              "\"A neuron is a fundamental component of a neural network, which is a key concept in deep learning. It's a node that receives one or more inputs, performs a computation on those inputs, and then sends the output to other neurons or to an output layer.\""
            ],
            "application/vnd.google.colaboratory.intrinsic+json": {
              "type": "string"
            }
          },
          "metadata": {},
          "execution_count": 111
        }
      ]
    },
    {
      "cell_type": "code",
      "source": [
        "rag_pipeline.invoke(\"What is RAG?\")"
      ],
      "metadata": {
        "colab": {
          "base_uri": "https://localhost:8080/",
          "height": 36
        },
        "id": "hIKWZ2KV_Ccr",
        "outputId": "b0044da6-c240-47d0-f467-4796d504fb45"
      },
      "execution_count": 112,
      "outputs": [
        {
          "output_type": "execute_result",
          "data": {
            "text/plain": [
              "\"I don't know.\""
            ],
            "application/vnd.google.colaboratory.intrinsic+json": {
              "type": "string"
            }
          },
          "metadata": {},
          "execution_count": 112
        }
      ]
    },
    {
      "cell_type": "code",
      "source": [
        "rag_pipeline.invoke(\"What are the usecases of ML?\")"
      ],
      "metadata": {
        "colab": {
          "base_uri": "https://localhost:8080/",
          "height": 91
        },
        "id": "1JtpJbO8_Gyl",
        "outputId": "cb6eb893-c73a-481b-ff02-8d4887457d64"
      },
      "execution_count": 113,
      "outputs": [
        {
          "output_type": "execute_result",
          "data": {
            "text/plain": [
              "\"Based on the provided context, some notable use cases of Machine Learning (ML) include:\\n\\n* Visual recognition, such as recognizing pictures of cats\\n* Deep learning applications, such as deep-fake videos, restoring black and white photos, self-driving cars, video games AIs, and sophisticated robotics\\n* Cancer treatment, where ML can suggest treatment plans for patients based on historical records and treatment plans\\n* User retention, where ML can classify users' behavior to predict when they are likely to leave a product\\n* Stock market predictions, where ML can help predict market trends and stay competitive in the financial industry.\""
            ],
            "application/vnd.google.colaboratory.intrinsic+json": {
              "type": "string"
            }
          },
          "metadata": {},
          "execution_count": 113
        }
      ]
    },
    {
      "cell_type": "code",
      "source": [],
      "metadata": {
        "id": "ETVztywW_VHu"
      },
      "execution_count": null,
      "outputs": []
    }
  ]
}